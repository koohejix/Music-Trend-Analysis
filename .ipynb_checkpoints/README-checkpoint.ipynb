{
 "cells": [
  {
   "cell_type": "markdown",
   "id": "77013725-f786-4388-99e4-ded1ea7dad92",
   "metadata": {},
   "source": [
    "id: A unique identifier for each track.\n",
    "\n",
    "name: The track's title.\n",
    "\n",
    "artists: Artist/s who participated in the track.\n",
    "\n",
    "duration_ms: Length of the track in milliseconds (ms).\n",
    "\n",
    "release_date: The track's release date in MM/DD/YYYY, or at the minimum, YYYY.\n",
    "\n",
    "year: The year in which the track was released.\n",
    "\n",
    "acousticness*: A confidence measure from 0.0 to 1.0 of whether the track is acoustic.\n",
    "\n",
    "danceability*: Describes how suitable a track is for dancing. A value of 0.0 is least danceable and 1.0 is most danceable.\n",
    "\n",
    "energy*: Energy is a measure from 0.0 to 1.0 and represents a perceptual measure of intensity and activity. Typically, energetic tracks feel fast and loud.\n",
    "\n",
    "instrumentalness*: Predicts whether a track contains no vocals.\n",
    "\n",
    "liveness*: Detects the presence of an audience in the recording.\n",
    "\n",
    "loudness*: The overall loudness of a track in decibels (dB).\n",
    "\n",
    "speechiness*: Detects the presence of spoken words in a track.\n",
    "\n",
    "tempo*: The overall estimated tempo of a track in beats per minute (BPM).\n",
    "\n",
    "valence*: A measure from 0.0 to 1.0 describing the musical positiveness conveyed by a track.\n",
    "\n",
    "mode: Melodic content from the modality of a track. 1 = Major; 0 = Minor.\n",
    "\n",
    "key: The estimated overall key of a track from the Pitch Class notation. E.g. 0 = C, 1 = C♯/D♭, 2 = D, and so on.\n",
    "\n",
    "popularity: A track's popularity, 0-100 where 100 is the most popular based on Spotify's algorithm.\n",
    "\n",
    "explicit: Whether or not the track has explicit lyrics. 1 = True; 0 = False."
   ]
  },
  {
   "cell_type": "code",
   "execution_count": null,
   "id": "5c1a07e1-ef40-4f31-8480-7520e61d745d",
   "metadata": {},
   "outputs": [],
   "source": []
  }
 ],
 "metadata": {
  "kernelspec": {
   "display_name": "Python 3 (ipykernel)",
   "language": "python",
   "name": "python3"
  },
  "language_info": {
   "codemirror_mode": {
    "name": "ipython",
    "version": 3
   },
   "file_extension": ".py",
   "mimetype": "text/x-python",
   "name": "python",
   "nbconvert_exporter": "python",
   "pygments_lexer": "ipython3",
   "version": "3.13.3"
  }
 },
 "nbformat": 4,
 "nbformat_minor": 5
}
