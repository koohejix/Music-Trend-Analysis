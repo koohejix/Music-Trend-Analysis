{
 "cells": [
  {
   "cell_type": "markdown",
   "id": "ac1c6aa7-0c6f-48cf-9a9e-79dd2d9ee56e",
   "metadata": {},
   "source": [
    "## Spotify Songs 1920 - 2021 Analysis"
   ]
  },
  {
   "cell_type": "code",
   "execution_count": 2,
   "id": "f2a4cee2-70c1-43a8-b661-5168c5f16be4",
   "metadata": {
    "tags": []
   },
   "outputs": [],
   "source": [
    "import pandas as pd"
   ]
  },
  {
   "cell_type": "code",
   "execution_count": 3,
   "id": "79161460-6aaf-46a6-8824-dd16162a8d54",
   "metadata": {
    "tags": []
   },
   "outputs": [],
   "source": [
    "spotify_160k = pd.read_csv('160k_Spotify.csv')\n",
    "# Data Source: https://www.kaggle.com/datasets/fcpercival/160k-spotify-songs-sorted"
   ]
  },
  {
   "cell_type": "markdown",
   "id": "4078e1f9-5817-4243-9e27-c89260ea0b40",
   "metadata": {},
   "source": [
    "### 1. Introduction"
   ]
  },
  {
   "cell_type": "code",
   "execution_count": 4,
   "id": "66dc7616-2e21-46d7-a606-3a1f2899fc6b",
   "metadata": {
    "tags": []
   },
   "outputs": [
    {
     "data": {
      "text/plain": [
       "Index(['id', 'name', 'artists', 'duration_ms', 'release_date', 'year',\n",
       "       'acousticness', 'danceability', 'energy', 'instrumentalness',\n",
       "       'liveness', 'loudness', 'speechiness', 'tempo', 'valence', 'mode',\n",
       "       'key', 'popularity', 'explicit'],\n",
       "      dtype='object')"
      ]
     },
     "execution_count": 4,
     "metadata": {},
     "output_type": "execute_result"
    }
   ],
   "source": [
    "spotify_160k.columns"
   ]
  },
  {
   "cell_type": "code",
   "execution_count": 5,
   "id": "467271b0-38d8-4776-9a51-6329c377f84e",
   "metadata": {
    "tags": []
   },
   "outputs": [
    {
     "data": {
      "text/html": [
       "<div>\n",
       "<style scoped>\n",
       "    .dataframe tbody tr th:only-of-type {\n",
       "        vertical-align: middle;\n",
       "    }\n",
       "\n",
       "    .dataframe tbody tr th {\n",
       "        vertical-align: top;\n",
       "    }\n",
       "\n",
       "    .dataframe thead th {\n",
       "        text-align: right;\n",
       "    }\n",
       "</style>\n",
       "<table border=\"1\" class=\"dataframe\">\n",
       "  <thead>\n",
       "    <tr style=\"text-align: right;\">\n",
       "      <th></th>\n",
       "      <th>id</th>\n",
       "      <th>name</th>\n",
       "      <th>artists</th>\n",
       "      <th>duration_ms</th>\n",
       "      <th>release_date</th>\n",
       "      <th>year</th>\n",
       "      <th>acousticness</th>\n",
       "      <th>danceability</th>\n",
       "      <th>energy</th>\n",
       "      <th>instrumentalness</th>\n",
       "      <th>liveness</th>\n",
       "      <th>loudness</th>\n",
       "      <th>speechiness</th>\n",
       "      <th>tempo</th>\n",
       "      <th>valence</th>\n",
       "      <th>mode</th>\n",
       "      <th>key</th>\n",
       "      <th>popularity</th>\n",
       "      <th>explicit</th>\n",
       "    </tr>\n",
       "  </thead>\n",
       "  <tbody>\n",
       "    <tr>\n",
       "      <th>0</th>\n",
       "      <td>0gNNToCW3qjabgTyBSjt3H</td>\n",
       "      <td>!Que Vida! - Mono Version</td>\n",
       "      <td>['Love']</td>\n",
       "      <td>220560</td>\n",
       "      <td>11/1/66</td>\n",
       "      <td>1966</td>\n",
       "      <td>0.5250</td>\n",
       "      <td>0.600</td>\n",
       "      <td>0.540</td>\n",
       "      <td>0.00305</td>\n",
       "      <td>0.100</td>\n",
       "      <td>-11.803</td>\n",
       "      <td>0.0328</td>\n",
       "      <td>125.898</td>\n",
       "      <td>0.547</td>\n",
       "      <td>1</td>\n",
       "      <td>9</td>\n",
       "      <td>26</td>\n",
       "      <td>0</td>\n",
       "    </tr>\n",
       "    <tr>\n",
       "      <th>1</th>\n",
       "      <td>0tMgFpOrXZR6irEOLNWwJL</td>\n",
       "      <td>\"40\"</td>\n",
       "      <td>['U2']</td>\n",
       "      <td>157840</td>\n",
       "      <td>2/28/83</td>\n",
       "      <td>1983</td>\n",
       "      <td>0.2280</td>\n",
       "      <td>0.368</td>\n",
       "      <td>0.480</td>\n",
       "      <td>0.70700</td>\n",
       "      <td>0.159</td>\n",
       "      <td>-11.605</td>\n",
       "      <td>0.0306</td>\n",
       "      <td>150.166</td>\n",
       "      <td>0.338</td>\n",
       "      <td>1</td>\n",
       "      <td>8</td>\n",
       "      <td>21</td>\n",
       "      <td>0</td>\n",
       "    </tr>\n",
       "    <tr>\n",
       "      <th>2</th>\n",
       "      <td>2ZywW3VyVx6rrlrX75n3JB</td>\n",
       "      <td>\"40\" - Live</td>\n",
       "      <td>['U2']</td>\n",
       "      <td>226200</td>\n",
       "      <td>8/20/83</td>\n",
       "      <td>1983</td>\n",
       "      <td>0.0998</td>\n",
       "      <td>0.272</td>\n",
       "      <td>0.684</td>\n",
       "      <td>0.01450</td>\n",
       "      <td>0.946</td>\n",
       "      <td>-9.728</td>\n",
       "      <td>0.0505</td>\n",
       "      <td>143.079</td>\n",
       "      <td>0.279</td>\n",
       "      <td>1</td>\n",
       "      <td>8</td>\n",
       "      <td>41</td>\n",
       "      <td>0</td>\n",
       "    </tr>\n",
       "    <tr>\n",
       "      <th>3</th>\n",
       "      <td>6DdWA7D1o5TU2kXWyCLcch</td>\n",
       "      <td>\"40\" - Remastered 2008</td>\n",
       "      <td>['U2']</td>\n",
       "      <td>157667</td>\n",
       "      <td>2/28/83</td>\n",
       "      <td>1983</td>\n",
       "      <td>0.1850</td>\n",
       "      <td>0.371</td>\n",
       "      <td>0.545</td>\n",
       "      <td>0.58200</td>\n",
       "      <td>0.183</td>\n",
       "      <td>-9.315</td>\n",
       "      <td>0.0307</td>\n",
       "      <td>150.316</td>\n",
       "      <td>0.310</td>\n",
       "      <td>1</td>\n",
       "      <td>8</td>\n",
       "      <td>37</td>\n",
       "      <td>0</td>\n",
       "    </tr>\n",
       "    <tr>\n",
       "      <th>4</th>\n",
       "      <td>3vMmwsAiLDCfyc1jl76lQE</td>\n",
       "      <td>\"40\" - Remastered 2008</td>\n",
       "      <td>['U2']</td>\n",
       "      <td>157667</td>\n",
       "      <td>2/28/83</td>\n",
       "      <td>1983</td>\n",
       "      <td>0.1850</td>\n",
       "      <td>0.371</td>\n",
       "      <td>0.545</td>\n",
       "      <td>0.58200</td>\n",
       "      <td>0.183</td>\n",
       "      <td>-9.315</td>\n",
       "      <td>0.0307</td>\n",
       "      <td>150.316</td>\n",
       "      <td>0.310</td>\n",
       "      <td>1</td>\n",
       "      <td>8</td>\n",
       "      <td>35</td>\n",
       "      <td>0</td>\n",
       "    </tr>\n",
       "  </tbody>\n",
       "</table>\n",
       "</div>"
      ],
      "text/plain": [
       "                       id                       name   artists  duration_ms  \\\n",
       "0  0gNNToCW3qjabgTyBSjt3H  !Que Vida! - Mono Version  ['Love']       220560   \n",
       "1  0tMgFpOrXZR6irEOLNWwJL                       \"40\"    ['U2']       157840   \n",
       "2  2ZywW3VyVx6rrlrX75n3JB                \"40\" - Live    ['U2']       226200   \n",
       "3  6DdWA7D1o5TU2kXWyCLcch     \"40\" - Remastered 2008    ['U2']       157667   \n",
       "4  3vMmwsAiLDCfyc1jl76lQE     \"40\" - Remastered 2008    ['U2']       157667   \n",
       "\n",
       "  release_date  year  acousticness  danceability  energy  instrumentalness  \\\n",
       "0      11/1/66  1966        0.5250         0.600   0.540           0.00305   \n",
       "1      2/28/83  1983        0.2280         0.368   0.480           0.70700   \n",
       "2      8/20/83  1983        0.0998         0.272   0.684           0.01450   \n",
       "3      2/28/83  1983        0.1850         0.371   0.545           0.58200   \n",
       "4      2/28/83  1983        0.1850         0.371   0.545           0.58200   \n",
       "\n",
       "   liveness  loudness  speechiness    tempo  valence  mode  key  popularity  \\\n",
       "0     0.100   -11.803       0.0328  125.898    0.547     1    9          26   \n",
       "1     0.159   -11.605       0.0306  150.166    0.338     1    8          21   \n",
       "2     0.946    -9.728       0.0505  143.079    0.279     1    8          41   \n",
       "3     0.183    -9.315       0.0307  150.316    0.310     1    8          37   \n",
       "4     0.183    -9.315       0.0307  150.316    0.310     1    8          35   \n",
       "\n",
       "   explicit  \n",
       "0         0  \n",
       "1         0  \n",
       "2         0  \n",
       "3         0  \n",
       "4         0  "
      ]
     },
     "execution_count": 5,
     "metadata": {},
     "output_type": "execute_result"
    }
   ],
   "source": [
    "spotify_160k.head()"
   ]
  },
  {
   "cell_type": "code",
   "execution_count": 6,
   "id": "9fa0f0f5-a346-43d1-a178-4e3d041840b5",
   "metadata": {
    "tags": []
   },
   "outputs": [
    {
     "data": {
      "text/html": [
       "<div>\n",
       "<style scoped>\n",
       "    .dataframe tbody tr th:only-of-type {\n",
       "        vertical-align: middle;\n",
       "    }\n",
       "\n",
       "    .dataframe tbody tr th {\n",
       "        vertical-align: top;\n",
       "    }\n",
       "\n",
       "    .dataframe thead th {\n",
       "        text-align: right;\n",
       "    }\n",
       "</style>\n",
       "<table border=\"1\" class=\"dataframe\">\n",
       "  <thead>\n",
       "    <tr style=\"text-align: right;\">\n",
       "      <th></th>\n",
       "      <th>duration_ms</th>\n",
       "      <th>year</th>\n",
       "      <th>acousticness</th>\n",
       "      <th>danceability</th>\n",
       "      <th>energy</th>\n",
       "      <th>instrumentalness</th>\n",
       "      <th>liveness</th>\n",
       "      <th>loudness</th>\n",
       "      <th>speechiness</th>\n",
       "      <th>tempo</th>\n",
       "      <th>valence</th>\n",
       "      <th>mode</th>\n",
       "      <th>key</th>\n",
       "      <th>popularity</th>\n",
       "      <th>explicit</th>\n",
       "    </tr>\n",
       "  </thead>\n",
       "  <tbody>\n",
       "    <tr>\n",
       "      <th>count</th>\n",
       "      <td>1.699070e+05</td>\n",
       "      <td>169907.000000</td>\n",
       "      <td>169907.000000</td>\n",
       "      <td>169907.000000</td>\n",
       "      <td>169907.000000</td>\n",
       "      <td>169907.000000</td>\n",
       "      <td>169907.000000</td>\n",
       "      <td>169907.000000</td>\n",
       "      <td>169907.000000</td>\n",
       "      <td>169907.000000</td>\n",
       "      <td>169907.000000</td>\n",
       "      <td>169907.000000</td>\n",
       "      <td>169907.000000</td>\n",
       "      <td>169907.000000</td>\n",
       "      <td>169907.000000</td>\n",
       "    </tr>\n",
       "    <tr>\n",
       "      <th>mean</th>\n",
       "      <td>2.314071e+05</td>\n",
       "      <td>1977.223234</td>\n",
       "      <td>0.493217</td>\n",
       "      <td>0.538147</td>\n",
       "      <td>0.488591</td>\n",
       "      <td>0.161939</td>\n",
       "      <td>0.206692</td>\n",
       "      <td>-11.370311</td>\n",
       "      <td>0.094058</td>\n",
       "      <td>116.947850</td>\n",
       "      <td>0.532091</td>\n",
       "      <td>0.708552</td>\n",
       "      <td>5.200498</td>\n",
       "      <td>31.556681</td>\n",
       "      <td>0.084864</td>\n",
       "    </tr>\n",
       "    <tr>\n",
       "      <th>std</th>\n",
       "      <td>1.213223e+05</td>\n",
       "      <td>25.593318</td>\n",
       "      <td>0.376628</td>\n",
       "      <td>0.175345</td>\n",
       "      <td>0.267391</td>\n",
       "      <td>0.309330</td>\n",
       "      <td>0.176797</td>\n",
       "      <td>5.666795</td>\n",
       "      <td>0.149938</td>\n",
       "      <td>30.727079</td>\n",
       "      <td>0.262407</td>\n",
       "      <td>0.454431</td>\n",
       "      <td>3.515272</td>\n",
       "      <td>21.582730</td>\n",
       "      <td>0.278680</td>\n",
       "    </tr>\n",
       "    <tr>\n",
       "      <th>min</th>\n",
       "      <td>5.108000e+03</td>\n",
       "      <td>1921.000000</td>\n",
       "      <td>0.000000</td>\n",
       "      <td>0.000000</td>\n",
       "      <td>0.000000</td>\n",
       "      <td>0.000000</td>\n",
       "      <td>0.000000</td>\n",
       "      <td>-60.000000</td>\n",
       "      <td>0.000000</td>\n",
       "      <td>0.000000</td>\n",
       "      <td>0.000000</td>\n",
       "      <td>0.000000</td>\n",
       "      <td>0.000000</td>\n",
       "      <td>0.000000</td>\n",
       "      <td>0.000000</td>\n",
       "    </tr>\n",
       "    <tr>\n",
       "      <th>25%</th>\n",
       "      <td>1.710400e+05</td>\n",
       "      <td>1957.000000</td>\n",
       "      <td>0.094500</td>\n",
       "      <td>0.417000</td>\n",
       "      <td>0.263000</td>\n",
       "      <td>0.000000</td>\n",
       "      <td>0.098400</td>\n",
       "      <td>-14.470000</td>\n",
       "      <td>0.034900</td>\n",
       "      <td>93.516000</td>\n",
       "      <td>0.322000</td>\n",
       "      <td>0.000000</td>\n",
       "      <td>2.000000</td>\n",
       "      <td>12.000000</td>\n",
       "      <td>0.000000</td>\n",
       "    </tr>\n",
       "    <tr>\n",
       "      <th>50%</th>\n",
       "      <td>2.086000e+05</td>\n",
       "      <td>1978.000000</td>\n",
       "      <td>0.492000</td>\n",
       "      <td>0.548000</td>\n",
       "      <td>0.481000</td>\n",
       "      <td>0.000204</td>\n",
       "      <td>0.135000</td>\n",
       "      <td>-10.474000</td>\n",
       "      <td>0.045000</td>\n",
       "      <td>114.777000</td>\n",
       "      <td>0.544000</td>\n",
       "      <td>1.000000</td>\n",
       "      <td>5.000000</td>\n",
       "      <td>33.000000</td>\n",
       "      <td>0.000000</td>\n",
       "    </tr>\n",
       "    <tr>\n",
       "      <th>75%</th>\n",
       "      <td>2.629665e+05</td>\n",
       "      <td>1999.000000</td>\n",
       "      <td>0.888000</td>\n",
       "      <td>0.667000</td>\n",
       "      <td>0.710000</td>\n",
       "      <td>0.086800</td>\n",
       "      <td>0.263000</td>\n",
       "      <td>-7.118000</td>\n",
       "      <td>0.075400</td>\n",
       "      <td>135.712000</td>\n",
       "      <td>0.749000</td>\n",
       "      <td>1.000000</td>\n",
       "      <td>8.000000</td>\n",
       "      <td>48.000000</td>\n",
       "      <td>0.000000</td>\n",
       "    </tr>\n",
       "    <tr>\n",
       "      <th>max</th>\n",
       "      <td>5.403500e+06</td>\n",
       "      <td>2020.000000</td>\n",
       "      <td>0.996000</td>\n",
       "      <td>0.988000</td>\n",
       "      <td>1.000000</td>\n",
       "      <td>1.000000</td>\n",
       "      <td>1.000000</td>\n",
       "      <td>3.855000</td>\n",
       "      <td>0.969000</td>\n",
       "      <td>244.091000</td>\n",
       "      <td>1.000000</td>\n",
       "      <td>1.000000</td>\n",
       "      <td>11.000000</td>\n",
       "      <td>100.000000</td>\n",
       "      <td>1.000000</td>\n",
       "    </tr>\n",
       "  </tbody>\n",
       "</table>\n",
       "</div>"
      ],
      "text/plain": [
       "        duration_ms           year   acousticness   danceability  \\\n",
       "count  1.699070e+05  169907.000000  169907.000000  169907.000000   \n",
       "mean   2.314071e+05    1977.223234       0.493217       0.538147   \n",
       "std    1.213223e+05      25.593318       0.376628       0.175345   \n",
       "min    5.108000e+03    1921.000000       0.000000       0.000000   \n",
       "25%    1.710400e+05    1957.000000       0.094500       0.417000   \n",
       "50%    2.086000e+05    1978.000000       0.492000       0.548000   \n",
       "75%    2.629665e+05    1999.000000       0.888000       0.667000   \n",
       "max    5.403500e+06    2020.000000       0.996000       0.988000   \n",
       "\n",
       "              energy  instrumentalness       liveness       loudness  \\\n",
       "count  169907.000000     169907.000000  169907.000000  169907.000000   \n",
       "mean        0.488591          0.161939       0.206692     -11.370311   \n",
       "std         0.267391          0.309330       0.176797       5.666795   \n",
       "min         0.000000          0.000000       0.000000     -60.000000   \n",
       "25%         0.263000          0.000000       0.098400     -14.470000   \n",
       "50%         0.481000          0.000204       0.135000     -10.474000   \n",
       "75%         0.710000          0.086800       0.263000      -7.118000   \n",
       "max         1.000000          1.000000       1.000000       3.855000   \n",
       "\n",
       "         speechiness          tempo        valence           mode  \\\n",
       "count  169907.000000  169907.000000  169907.000000  169907.000000   \n",
       "mean        0.094058     116.947850       0.532091       0.708552   \n",
       "std         0.149938      30.727079       0.262407       0.454431   \n",
       "min         0.000000       0.000000       0.000000       0.000000   \n",
       "25%         0.034900      93.516000       0.322000       0.000000   \n",
       "50%         0.045000     114.777000       0.544000       1.000000   \n",
       "75%         0.075400     135.712000       0.749000       1.000000   \n",
       "max         0.969000     244.091000       1.000000       1.000000   \n",
       "\n",
       "                 key     popularity       explicit  \n",
       "count  169907.000000  169907.000000  169907.000000  \n",
       "mean        5.200498      31.556681       0.084864  \n",
       "std         3.515272      21.582730       0.278680  \n",
       "min         0.000000       0.000000       0.000000  \n",
       "25%         2.000000      12.000000       0.000000  \n",
       "50%         5.000000      33.000000       0.000000  \n",
       "75%         8.000000      48.000000       0.000000  \n",
       "max        11.000000     100.000000       1.000000  "
      ]
     },
     "execution_count": 6,
     "metadata": {},
     "output_type": "execute_result"
    }
   ],
   "source": [
    "spotify_160k.describe()"
   ]
  },
  {
   "cell_type": "code",
   "execution_count": 7,
   "id": "46e30f00-e137-4ad3-8cd1-dd0c8c90311a",
   "metadata": {
    "tags": []
   },
   "outputs": [
    {
     "name": "stdout",
     "output_type": "stream",
     "text": [
      "<class 'pandas.core.frame.DataFrame'>\n",
      "RangeIndex: 169907 entries, 0 to 169906\n",
      "Data columns (total 19 columns):\n",
      " #   Column            Non-Null Count   Dtype  \n",
      "---  ------            --------------   -----  \n",
      " 0   id                169907 non-null  object \n",
      " 1   name              169907 non-null  object \n",
      " 2   artists           169907 non-null  object \n",
      " 3   duration_ms       169907 non-null  int64  \n",
      " 4   release_date      169907 non-null  object \n",
      " 5   year              169907 non-null  int64  \n",
      " 6   acousticness      169907 non-null  float64\n",
      " 7   danceability      169907 non-null  float64\n",
      " 8   energy            169907 non-null  float64\n",
      " 9   instrumentalness  169907 non-null  float64\n",
      " 10  liveness          169907 non-null  float64\n",
      " 11  loudness          169907 non-null  float64\n",
      " 12  speechiness       169907 non-null  float64\n",
      " 13  tempo             169907 non-null  float64\n",
      " 14  valence           169907 non-null  float64\n",
      " 15  mode              169907 non-null  int64  \n",
      " 16  key               169907 non-null  int64  \n",
      " 17  popularity        169907 non-null  int64  \n",
      " 18  explicit          169907 non-null  int64  \n",
      "dtypes: float64(9), int64(6), object(4)\n",
      "memory usage: 24.6+ MB\n"
     ]
    }
   ],
   "source": [
    "spotify_160k.info()"
   ]
  },
  {
   "cell_type": "markdown",
   "id": "99501315-78e6-4bae-91ba-9c2879665f39",
   "metadata": {},
   "source": [
    "### 2. Data Cleaning"
   ]
  },
  {
   "cell_type": "markdown",
   "id": "e1a2554f-49ae-47df-b085-870e48057928",
   "metadata": {},
   "source": [
    "### a. Determining and handling null values"
   ]
  },
  {
   "cell_type": "code",
   "execution_count": 7,
   "id": "5f092853-cf58-460c-84a2-a64a465a5d06",
   "metadata": {
    "tags": []
   },
   "outputs": [
    {
     "data": {
      "text/plain": [
       "id                  0\n",
       "name                0\n",
       "artists             0\n",
       "duration_ms         0\n",
       "release_date        0\n",
       "year                0\n",
       "acousticness        0\n",
       "danceability        0\n",
       "energy              0\n",
       "instrumentalness    0\n",
       "liveness            0\n",
       "loudness            0\n",
       "speechiness         0\n",
       "tempo               0\n",
       "valence             0\n",
       "mode                0\n",
       "key                 0\n",
       "popularity          0\n",
       "explicit            0\n",
       "dtype: int64"
      ]
     },
     "execution_count": 7,
     "metadata": {},
     "output_type": "execute_result"
    }
   ],
   "source": [
    "spotify_160k.isna().sum()"
   ]
  },
  {
   "cell_type": "code",
   "execution_count": 11,
   "id": "061d5c45-dd9b-4fa0-bac1-adcb78ed8394",
   "metadata": {
    "tags": []
   },
   "outputs": [
    {
     "data": {
      "text/html": [
       "<div>\n",
       "<style scoped>\n",
       "    .dataframe tbody tr th:only-of-type {\n",
       "        vertical-align: middle;\n",
       "    }\n",
       "\n",
       "    .dataframe tbody tr th {\n",
       "        vertical-align: top;\n",
       "    }\n",
       "\n",
       "    .dataframe thead th {\n",
       "        text-align: right;\n",
       "    }\n",
       "</style>\n",
       "<table border=\"1\" class=\"dataframe\">\n",
       "  <thead>\n",
       "    <tr style=\"text-align: right;\">\n",
       "      <th></th>\n",
       "      <th>id</th>\n",
       "      <th>name</th>\n",
       "      <th>artists</th>\n",
       "      <th>duration_ms</th>\n",
       "      <th>release_date</th>\n",
       "      <th>year</th>\n",
       "      <th>acousticness</th>\n",
       "      <th>danceability</th>\n",
       "      <th>energy</th>\n",
       "      <th>instrumentalness</th>\n",
       "      <th>liveness</th>\n",
       "      <th>loudness</th>\n",
       "      <th>speechiness</th>\n",
       "      <th>tempo</th>\n",
       "      <th>valence</th>\n",
       "      <th>mode</th>\n",
       "      <th>key</th>\n",
       "      <th>popularity</th>\n",
       "      <th>explicit</th>\n",
       "    </tr>\n",
       "  </thead>\n",
       "  <tbody>\n",
       "  </tbody>\n",
       "</table>\n",
       "</div>"
      ],
      "text/plain": [
       "Empty DataFrame\n",
       "Columns: [id, name, artists, duration_ms, release_date, year, acousticness, danceability, energy, instrumentalness, liveness, loudness, speechiness, tempo, valence, mode, key, popularity, explicit]\n",
       "Index: []"
      ]
     },
     "execution_count": 11,
     "metadata": {},
     "output_type": "execute_result"
    }
   ],
   "source": [
    "blank_names = spotify_160k['name'] == ' '\n",
    "spotify_160k[blank_names].head(3)"
   ]
  },
  {
   "cell_type": "code",
   "execution_count": 12,
   "id": "dad3f17b-b8bc-4c5a-855d-14683b091eec",
   "metadata": {
    "tags": []
   },
   "outputs": [
    {
     "data": {
      "text/html": [
       "<div>\n",
       "<style scoped>\n",
       "    .dataframe tbody tr th:only-of-type {\n",
       "        vertical-align: middle;\n",
       "    }\n",
       "\n",
       "    .dataframe tbody tr th {\n",
       "        vertical-align: top;\n",
       "    }\n",
       "\n",
       "    .dataframe thead th {\n",
       "        text-align: right;\n",
       "    }\n",
       "</style>\n",
       "<table border=\"1\" class=\"dataframe\">\n",
       "  <thead>\n",
       "    <tr style=\"text-align: right;\">\n",
       "      <th></th>\n",
       "      <th>id</th>\n",
       "      <th>name</th>\n",
       "      <th>artists</th>\n",
       "      <th>duration_ms</th>\n",
       "      <th>release_date</th>\n",
       "      <th>year</th>\n",
       "      <th>acousticness</th>\n",
       "      <th>danceability</th>\n",
       "      <th>energy</th>\n",
       "      <th>instrumentalness</th>\n",
       "      <th>liveness</th>\n",
       "      <th>loudness</th>\n",
       "      <th>speechiness</th>\n",
       "      <th>tempo</th>\n",
       "      <th>valence</th>\n",
       "      <th>mode</th>\n",
       "      <th>key</th>\n",
       "      <th>popularity</th>\n",
       "      <th>explicit</th>\n",
       "    </tr>\n",
       "  </thead>\n",
       "  <tbody>\n",
       "  </tbody>\n",
       "</table>\n",
       "</div>"
      ],
      "text/plain": [
       "Empty DataFrame\n",
       "Columns: [id, name, artists, duration_ms, release_date, year, acousticness, danceability, energy, instrumentalness, liveness, loudness, speechiness, tempo, valence, mode, key, popularity, explicit]\n",
       "Index: []"
      ]
     },
     "execution_count": 12,
     "metadata": {},
     "output_type": "execute_result"
    }
   ],
   "source": [
    "blank_artists = spotify_160k['name'] == ' '\n",
    "spotify_160k[blank_artists].head(3)"
   ]
  },
  {
   "cell_type": "markdown",
   "id": "fb5b4192-27fd-4f40-871e-5b9c765b2ec4",
   "metadata": {},
   "source": [
    "### b. Removing Unneeded Columns"
   ]
  },
  {
   "cell_type": "code",
   "execution_count": 8,
   "id": "817897a7-9d00-4bdc-8e49-ba4616f87fba",
   "metadata": {},
   "outputs": [],
   "source": [
    "spotify_160k.drop(columns=['release_date', 'valence', 'speechiness', 'liveness', 'explicit'], inplace=True)"
   ]
  },
  {
   "cell_type": "markdown",
   "id": "1347dbef-90b8-4809-b5f8-3a4e39cd7eb1",
   "metadata": {
    "tags": []
   },
   "source": [
    "### c. Validating Data Types"
   ]
  },
  {
   "cell_type": "code",
   "execution_count": 9,
   "id": "89248c91-4807-435c-b10e-79aeec63d66c",
   "metadata": {},
   "outputs": [
    {
     "name": "stdout",
     "output_type": "stream",
     "text": [
      "<class 'pandas.core.frame.DataFrame'>\n",
      "RangeIndex: 169907 entries, 0 to 169906\n",
      "Data columns (total 14 columns):\n",
      " #   Column            Non-Null Count   Dtype  \n",
      "---  ------            --------------   -----  \n",
      " 0   id                169907 non-null  object \n",
      " 1   name              169907 non-null  object \n",
      " 2   artists           169907 non-null  object \n",
      " 3   duration_ms       169907 non-null  int64  \n",
      " 4   year              169907 non-null  int64  \n",
      " 5   acousticness      169907 non-null  float64\n",
      " 6   danceability      169907 non-null  float64\n",
      " 7   energy            169907 non-null  float64\n",
      " 8   instrumentalness  169907 non-null  float64\n",
      " 9   loudness          169907 non-null  float64\n",
      " 10  tempo             169907 non-null  float64\n",
      " 11  mode              169907 non-null  int64  \n",
      " 12  key               169907 non-null  int64  \n",
      " 13  popularity        169907 non-null  int64  \n",
      "dtypes: float64(6), int64(5), object(3)\n",
      "memory usage: 18.1+ MB\n"
     ]
    }
   ],
   "source": [
    "spotify_160k.info()"
   ]
  },
  {
   "cell_type": "markdown",
   "id": "fba270e9-83b7-4d54-9301-8f9e83ba3df1",
   "metadata": {},
   "source": [
    "### d. Reformatting Column Values"
   ]
  },
  {
   "cell_type": "code",
   "execution_count": 16,
   "id": "126c424e-5e25-42f4-972c-611f279f02f4",
   "metadata": {},
   "outputs": [],
   "source": [
    "spotify_160k['artists'] = spotify_160k['artists'].str.replace(r\"^\\['(.*?)'\\].*$\", r\"\\1\", regex=True).str.strip()"
   ]
  },
  {
   "cell_type": "markdown",
   "id": "1e399beb-2dcd-47f9-9c83-319a6a2a2593",
   "metadata": {},
   "source": [
    "### e. Handling Duplicate Rows"
   ]
  },
  {
   "cell_type": "code",
   "execution_count": 34,
   "id": "99930e99-5423-4c48-88e1-3bcec67c4771",
   "metadata": {},
   "outputs": [
    {
     "name": "stdout",
     "output_type": "stream",
     "text": [
      "0\n"
     ]
    }
   ],
   "source": [
    "print(spotify_160k.duplicated().sum())"
   ]
  },
  {
   "cell_type": "code",
   "execution_count": 33,
   "id": "776b85fb-a401-4de4-b593-792c77db7660",
   "metadata": {},
   "outputs": [
    {
     "data": {
      "text/html": [
       "<div>\n",
       "<style scoped>\n",
       "    .dataframe tbody tr th:only-of-type {\n",
       "        vertical-align: middle;\n",
       "    }\n",
       "\n",
       "    .dataframe tbody tr th {\n",
       "        vertical-align: top;\n",
       "    }\n",
       "\n",
       "    .dataframe thead th {\n",
       "        text-align: right;\n",
       "    }\n",
       "</style>\n",
       "<table border=\"1\" class=\"dataframe\">\n",
       "  <thead>\n",
       "    <tr style=\"text-align: right;\">\n",
       "      <th></th>\n",
       "      <th>id</th>\n",
       "      <th>name</th>\n",
       "      <th>artists</th>\n",
       "      <th>duration_ms</th>\n",
       "      <th>year</th>\n",
       "      <th>acousticness</th>\n",
       "      <th>danceability</th>\n",
       "      <th>energy</th>\n",
       "      <th>instrumentalness</th>\n",
       "      <th>loudness</th>\n",
       "      <th>tempo</th>\n",
       "      <th>mode</th>\n",
       "      <th>key</th>\n",
       "      <th>popularity</th>\n",
       "    </tr>\n",
       "  </thead>\n",
       "  <tbody>\n",
       "    <tr>\n",
       "      <th>4</th>\n",
       "      <td>3vMmwsAiLDCfyc1jl76lQE</td>\n",
       "      <td>\"40\" - Remastered 2008</td>\n",
       "      <td>U2</td>\n",
       "      <td>157667</td>\n",
       "      <td>1983</td>\n",
       "      <td>0.18500</td>\n",
       "      <td>0.371</td>\n",
       "      <td>0.5450</td>\n",
       "      <td>0.582000</td>\n",
       "      <td>-9.315</td>\n",
       "      <td>150.316</td>\n",
       "      <td>1</td>\n",
       "      <td>8</td>\n",
       "      <td>35</td>\n",
       "    </tr>\n",
       "    <tr>\n",
       "      <th>14</th>\n",
       "      <td>0xVbtHC4BM071oCAYrMxy1</td>\n",
       "      <td>\"Carmen Fantasie\", by Franz Waxman, based on t...</td>\n",
       "      <td>Georges Bizet</td>\n",
       "      <td>583573</td>\n",
       "      <td>1946</td>\n",
       "      <td>0.94300</td>\n",
       "      <td>0.291</td>\n",
       "      <td>0.1980</td>\n",
       "      <td>0.380000</td>\n",
       "      <td>-19.978</td>\n",
       "      <td>71.366</td>\n",
       "      <td>1</td>\n",
       "      <td>2</td>\n",
       "      <td>0</td>\n",
       "    </tr>\n",
       "    <tr>\n",
       "      <th>52</th>\n",
       "      <td>4zCfMDdf5QXPKEqxdinXvB</td>\n",
       "      <td>\"The Take Over, The Breaks Over\"</td>\n",
       "      <td>Fall Out Boy</td>\n",
       "      <td>213587</td>\n",
       "      <td>2007</td>\n",
       "      <td>0.00614</td>\n",
       "      <td>0.609</td>\n",
       "      <td>0.9170</td>\n",
       "      <td>0.000020</td>\n",
       "      <td>-2.563</td>\n",
       "      <td>149.948</td>\n",
       "      <td>1</td>\n",
       "      <td>9</td>\n",
       "      <td>51</td>\n",
       "    </tr>\n",
       "    <tr>\n",
       "      <th>89</th>\n",
       "      <td>4VsMart0lkjUtyQnmxloK6</td>\n",
       "      <td>$outh $ide $uicide</td>\n",
       "      <td>$uicideBoy$</td>\n",
       "      <td>169320</td>\n",
       "      <td>2015</td>\n",
       "      <td>0.00538</td>\n",
       "      <td>0.797</td>\n",
       "      <td>0.5160</td>\n",
       "      <td>0.431000</td>\n",
       "      <td>-6.286</td>\n",
       "      <td>109.997</td>\n",
       "      <td>1</td>\n",
       "      <td>1</td>\n",
       "      <td>69</td>\n",
       "    </tr>\n",
       "    <tr>\n",
       "      <th>93</th>\n",
       "      <td>6X7qcg95CAeJpTjtg1wooM</td>\n",
       "      <td>&amp;burn (with Vince Staples)</td>\n",
       "      <td>Billie Eilish</td>\n",
       "      <td>179016</td>\n",
       "      <td>2017</td>\n",
       "      <td>0.21300</td>\n",
       "      <td>0.776</td>\n",
       "      <td>0.3790</td>\n",
       "      <td>0.001750</td>\n",
       "      <td>-9.351</td>\n",
       "      <td>82.531</td>\n",
       "      <td>0</td>\n",
       "      <td>9</td>\n",
       "      <td>65</td>\n",
       "    </tr>\n",
       "    <tr>\n",
       "      <th>...</th>\n",
       "      <td>...</td>\n",
       "      <td>...</td>\n",
       "      <td>...</td>\n",
       "      <td>...</td>\n",
       "      <td>...</td>\n",
       "      <td>...</td>\n",
       "      <td>...</td>\n",
       "      <td>...</td>\n",
       "      <td>...</td>\n",
       "      <td>...</td>\n",
       "      <td>...</td>\n",
       "      <td>...</td>\n",
       "      <td>...</td>\n",
       "      <td>...</td>\n",
       "    </tr>\n",
       "    <tr>\n",
       "      <th>168938</th>\n",
       "      <td>6knI6kx81EBsy7ZefK4lYk</td>\n",
       "      <td>今宵多珍重</td>\n",
       "      <td>霜華雪華</td>\n",
       "      <td>215667</td>\n",
       "      <td>1966</td>\n",
       "      <td>0.94900</td>\n",
       "      <td>0.387</td>\n",
       "      <td>0.0426</td>\n",
       "      <td>0.000073</td>\n",
       "      <td>-25.145</td>\n",
       "      <td>105.954</td>\n",
       "      <td>1</td>\n",
       "      <td>0</td>\n",
       "      <td>25</td>\n",
       "    </tr>\n",
       "    <tr>\n",
       "      <th>169151</th>\n",
       "      <td>5QEvnCNqeDyGlWtByBBjyp</td>\n",
       "      <td>好心分手</td>\n",
       "      <td>Candy Lo</td>\n",
       "      <td>180227</td>\n",
       "      <td>1998</td>\n",
       "      <td>0.60100</td>\n",
       "      <td>0.734</td>\n",
       "      <td>0.5360</td>\n",
       "      <td>0.000000</td>\n",
       "      <td>-4.686</td>\n",
       "      <td>114.036</td>\n",
       "      <td>1</td>\n",
       "      <td>11</td>\n",
       "      <td>40</td>\n",
       "    </tr>\n",
       "    <tr>\n",
       "      <th>169231</th>\n",
       "      <td>0wxSv5S7CslCtUqKfNKboe</td>\n",
       "      <td>心箋</td>\n",
       "      <td>幸福合唱團</td>\n",
       "      <td>158853</td>\n",
       "      <td>1965</td>\n",
       "      <td>0.98600</td>\n",
       "      <td>0.550</td>\n",
       "      <td>0.1020</td>\n",
       "      <td>0.000268</td>\n",
       "      <td>-23.583</td>\n",
       "      <td>95.057</td>\n",
       "      <td>1</td>\n",
       "      <td>5</td>\n",
       "      <td>22</td>\n",
       "    </tr>\n",
       "    <tr>\n",
       "      <th>169348</th>\n",
       "      <td>5G2BKVqHNC8yl77fAWybHb</td>\n",
       "      <td>我的一顆心</td>\n",
       "      <td>霜華雪華</td>\n",
       "      <td>150840</td>\n",
       "      <td>1965</td>\n",
       "      <td>0.95100</td>\n",
       "      <td>0.503</td>\n",
       "      <td>0.0600</td>\n",
       "      <td>0.000000</td>\n",
       "      <td>-20.764</td>\n",
       "      <td>125.139</td>\n",
       "      <td>1</td>\n",
       "      <td>7</td>\n",
       "      <td>23</td>\n",
       "    </tr>\n",
       "    <tr>\n",
       "      <th>169611</th>\n",
       "      <td>4DUT4cEcOpwIGaItPAY7Ek</td>\n",
       "      <td>相思河畔</td>\n",
       "      <td>霜華雪華</td>\n",
       "      <td>199893</td>\n",
       "      <td>1963</td>\n",
       "      <td>0.72600</td>\n",
       "      <td>0.408</td>\n",
       "      <td>0.1310</td>\n",
       "      <td>0.000000</td>\n",
       "      <td>-23.403</td>\n",
       "      <td>97.710</td>\n",
       "      <td>1</td>\n",
       "      <td>3</td>\n",
       "      <td>22</td>\n",
       "    </tr>\n",
       "  </tbody>\n",
       "</table>\n",
       "<p>14435 rows × 14 columns</p>\n",
       "</div>"
      ],
      "text/plain": [
       "                            id  \\\n",
       "4       3vMmwsAiLDCfyc1jl76lQE   \n",
       "14      0xVbtHC4BM071oCAYrMxy1   \n",
       "52      4zCfMDdf5QXPKEqxdinXvB   \n",
       "89      4VsMart0lkjUtyQnmxloK6   \n",
       "93      6X7qcg95CAeJpTjtg1wooM   \n",
       "...                        ...   \n",
       "168938  6knI6kx81EBsy7ZefK4lYk   \n",
       "169151  5QEvnCNqeDyGlWtByBBjyp   \n",
       "169231  0wxSv5S7CslCtUqKfNKboe   \n",
       "169348  5G2BKVqHNC8yl77fAWybHb   \n",
       "169611  4DUT4cEcOpwIGaItPAY7Ek   \n",
       "\n",
       "                                                     name        artists  \\\n",
       "4                                  \"40\" - Remastered 2008             U2   \n",
       "14      \"Carmen Fantasie\", by Franz Waxman, based on t...  Georges Bizet   \n",
       "52                       \"The Take Over, The Breaks Over\"   Fall Out Boy   \n",
       "89                                     $outh $ide $uicide    $uicideBoy$   \n",
       "93                             &burn (with Vince Staples)  Billie Eilish   \n",
       "...                                                   ...            ...   \n",
       "168938                                              今宵多珍重           霜華雪華   \n",
       "169151                                               好心分手       Candy Lo   \n",
       "169231                                                 心箋          幸福合唱團   \n",
       "169348                                              我的一顆心           霜華雪華   \n",
       "169611                                               相思河畔           霜華雪華   \n",
       "\n",
       "        duration_ms  year  acousticness  danceability  energy  \\\n",
       "4            157667  1983       0.18500         0.371  0.5450   \n",
       "14           583573  1946       0.94300         0.291  0.1980   \n",
       "52           213587  2007       0.00614         0.609  0.9170   \n",
       "89           169320  2015       0.00538         0.797  0.5160   \n",
       "93           179016  2017       0.21300         0.776  0.3790   \n",
       "...             ...   ...           ...           ...     ...   \n",
       "168938       215667  1966       0.94900         0.387  0.0426   \n",
       "169151       180227  1998       0.60100         0.734  0.5360   \n",
       "169231       158853  1965       0.98600         0.550  0.1020   \n",
       "169348       150840  1965       0.95100         0.503  0.0600   \n",
       "169611       199893  1963       0.72600         0.408  0.1310   \n",
       "\n",
       "        instrumentalness  loudness    tempo  mode  key  popularity  \n",
       "4               0.582000    -9.315  150.316     1    8          35  \n",
       "14              0.380000   -19.978   71.366     1    2           0  \n",
       "52              0.000020    -2.563  149.948     1    9          51  \n",
       "89              0.431000    -6.286  109.997     1    1          69  \n",
       "93              0.001750    -9.351   82.531     0    9          65  \n",
       "...                  ...       ...      ...   ...  ...         ...  \n",
       "168938          0.000073   -25.145  105.954     1    0          25  \n",
       "169151          0.000000    -4.686  114.036     1   11          40  \n",
       "169231          0.000268   -23.583   95.057     1    5          22  \n",
       "169348          0.000000   -20.764  125.139     1    7          23  \n",
       "169611          0.000000   -23.403   97.710     1    3          22  \n",
       "\n",
       "[14435 rows x 14 columns]"
      ]
     },
     "execution_count": 33,
     "metadata": {},
     "output_type": "execute_result"
    }
   ],
   "source": [
    "spotify_160k[spotify_160k.duplicated(subset=['name', 'artists'])]"
   ]
  },
  {
   "cell_type": "code",
   "execution_count": 37,
   "id": "588bb743-2c5e-4484-b7fc-b81136992327",
   "metadata": {},
   "outputs": [],
   "source": [
    "spotify_160k = spotify_160k.drop_duplicates(subset=['name', 'artists'], keep='first')"
   ]
  },
  {
   "cell_type": "code",
   "execution_count": 38,
   "id": "803aa8f6-b352-435e-b2a7-343c0eec0770",
   "metadata": {},
   "outputs": [
    {
     "data": {
      "text/html": [
       "<div>\n",
       "<style scoped>\n",
       "    .dataframe tbody tr th:only-of-type {\n",
       "        vertical-align: middle;\n",
       "    }\n",
       "\n",
       "    .dataframe tbody tr th {\n",
       "        vertical-align: top;\n",
       "    }\n",
       "\n",
       "    .dataframe thead th {\n",
       "        text-align: right;\n",
       "    }\n",
       "</style>\n",
       "<table border=\"1\" class=\"dataframe\">\n",
       "  <thead>\n",
       "    <tr style=\"text-align: right;\">\n",
       "      <th></th>\n",
       "      <th>id</th>\n",
       "      <th>name</th>\n",
       "      <th>artists</th>\n",
       "      <th>duration_ms</th>\n",
       "      <th>year</th>\n",
       "      <th>acousticness</th>\n",
       "      <th>danceability</th>\n",
       "      <th>energy</th>\n",
       "      <th>instrumentalness</th>\n",
       "      <th>loudness</th>\n",
       "      <th>tempo</th>\n",
       "      <th>mode</th>\n",
       "      <th>key</th>\n",
       "      <th>popularity</th>\n",
       "    </tr>\n",
       "  </thead>\n",
       "  <tbody>\n",
       "  </tbody>\n",
       "</table>\n",
       "</div>"
      ],
      "text/plain": [
       "Empty DataFrame\n",
       "Columns: [id, name, artists, duration_ms, year, acousticness, danceability, energy, instrumentalness, loudness, tempo, mode, key, popularity]\n",
       "Index: []"
      ]
     },
     "execution_count": 38,
     "metadata": {},
     "output_type": "execute_result"
    }
   ],
   "source": [
    "spotify_160k[spotify_160k.duplicated(subset=['name', 'artists'])]"
   ]
  },
  {
   "cell_type": "markdown",
   "id": "09954dfc-6e47-4250-a961-b6904d03b41f",
   "metadata": {
    "tags": []
   },
   "source": [
    "### f. Identifying Outliers"
   ]
  },
  {
   "cell_type": "code",
   "execution_count": 39,
   "id": "5a900088-82a8-4610-8e6a-b6a354f468ba",
   "metadata": {},
   "outputs": [
    {
     "data": {
      "text/plain": [
       "Index(['id', 'name', 'artists', 'duration_ms', 'year', 'acousticness',\n",
       "       'danceability', 'energy', 'instrumentalness', 'loudness', 'tempo',\n",
       "       'mode', 'key', 'popularity'],\n",
       "      dtype='object')"
      ]
     },
     "execution_count": 39,
     "metadata": {},
     "output_type": "execute_result"
    }
   ],
   "source": [
    "spotify_160k.columns"
   ]
  },
  {
   "cell_type": "code",
   "execution_count": 41,
   "id": "9ed7f05c-3331-47cb-9901-5d11c8effcd3",
   "metadata": {},
   "outputs": [
    {
     "name": "stdout",
     "output_type": "stream",
     "text": [
      "[1 0]\n",
      "[ 9  8  2  0 10  7  1 11  5  4  3  6]\n"
     ]
    }
   ],
   "source": [
    "print(spotify_160k[\"mode\"].unique())\n",
    "print(spotify_160k[\"key\"].unique())"
   ]
  },
  {
   "cell_type": "code",
   "execution_count": 44,
   "id": "7c231ca9-ca76-47b3-8194-b3af632a5587",
   "metadata": {},
   "outputs": [
    {
     "name": "stdout",
     "output_type": "stream",
     "text": [
      "1921 – 2020\n",
      "0.0 – 0.996\n",
      "0.0 – 0.988\n",
      "0.0 – 1.0\n",
      "0.0 – 1.0\n",
      "0 – 100\n",
      "-60.0 – 3.855\n"
     ]
    }
   ],
   "source": [
    "print(str(spotify_160k[\"year\"].min()) + \" – \" + str(spotify_160k[\"year\"].max())) # Range: [1921 – 2020]\n",
    "print(str(spotify_160k[\"acousticness\"].min()) + \" – \" + str(spotify_160k[\"acousticness\"].max())) # Range: [0.0 – 1.0]\n",
    "print(str(spotify_160k[\"danceability\"].min()) + \" – \" + str(spotify_160k[\"danceability\"].max())) # Range: [0.0 – 1.0]\n",
    "print(str(spotify_160k[\"energy\"].min()) + \" – \" + str(spotify_160k[\"energy\"].max())) # Range: [0.0 – 1.0]\n",
    "print(str(spotify_160k[\"instrumentalness\"].min()) + \" – \" + str(spotify_160k[\"instrumentalness\"].max())) # Range: [0.0 – 1.0]\n",
    "print(str(spotify_160k[\"popularity\"].min()) + \" – \" + str(spotify_160k[\"popularity\"].max())) # Range: [0 – 100]\n",
    "print(str(spotify_160k[\"loudness\"].min()) + \" – \" + str(spotify_160k[\"loudness\"].max())) # Range: [0 – 100]"
   ]
  },
  {
   "cell_type": "code",
   "execution_count": 48,
   "id": "8e107df2-234e-4dad-9158-0accfc7ae590",
   "metadata": {},
   "outputs": [
    {
     "name": "stdout",
     "output_type": "stream",
     "text": [
      "30\n"
     ]
    }
   ],
   "source": [
    "count = (spotify_160k['loudness'] > 0).sum()\n",
    "print(count)"
   ]
  },
  {
   "cell_type": "code",
   "execution_count": 49,
   "id": "318b56a8-f022-44f3-b72f-99a1558241e7",
   "metadata": {},
   "outputs": [
    {
     "name": "stderr",
     "output_type": "stream",
     "text": [
      "C:\\Users\\koohe\\AppData\\Local\\Temp\\ipykernel_22724\\1010933704.py:1: SettingWithCopyWarning: \n",
      "A value is trying to be set on a copy of a slice from a DataFrame.\n",
      "Try using .loc[row_indexer,col_indexer] = value instead\n",
      "\n",
      "See the caveats in the documentation: https://pandas.pydata.org/pandas-docs/stable/user_guide/indexing.html#returning-a-view-versus-a-copy\n",
      "  spotify_160k['loudness'] = spotify_160k['loudness'].clip(upper=0)\n"
     ]
    }
   ],
   "source": [
    "spotify_160k['loudness'] = spotify_160k['loudness'].clip(upper=0)"
   ]
  },
  {
   "cell_type": "code",
   "execution_count": 51,
   "id": "babcad60-a6ac-4bf5-8ef5-00c7b73e994a",
   "metadata": {},
   "outputs": [
    {
     "name": "stdout",
     "output_type": "stream",
     "text": [
      "-60.0 – 0.0\n"
     ]
    }
   ],
   "source": [
    "print(str(spotify_160k[\"loudness\"].min()) + \" – \" + str(spotify_160k[\"loudness\"].max())) # Range: [0 – 100]"
   ]
  },
  {
   "cell_type": "markdown",
   "id": "e8fb91af-1ebb-4739-ad56-0af4febbd6f0",
   "metadata": {},
   "source": [
    "### g. Adding Categorical Columns for Decade and Track Length"
   ]
  },
  {
   "cell_type": "code",
   "execution_count": 54,
   "id": "678c6d55-78d5-43ae-b085-b7a39c16bf9b",
   "metadata": {},
   "outputs": [
    {
     "name": "stderr",
     "output_type": "stream",
     "text": [
      "C:\\Users\\koohe\\AppData\\Local\\Temp\\ipykernel_22724\\3909995751.py:1: SettingWithCopyWarning: \n",
      "A value is trying to be set on a copy of a slice from a DataFrame.\n",
      "Try using .loc[row_indexer,col_indexer] = value instead\n",
      "\n",
      "See the caveats in the documentation: https://pandas.pydata.org/pandas-docs/stable/user_guide/indexing.html#returning-a-view-versus-a-copy\n",
      "  spotify_160k['decade'] = (spotify_160k['year'] // 10 * 10).astype(str) + \"s\"\n"
     ]
    }
   ],
   "source": [
    "spotify_160k['decade'] = (spotify_160k['year'] // 10 * 10).astype(str) + \"s\""
   ]
  },
  {
   "cell_type": "code",
   "execution_count": 55,
   "id": "664d708d-aaf9-4f13-b02e-6a7a51dfadc8",
   "metadata": {},
   "outputs": [
    {
     "name": "stderr",
     "output_type": "stream",
     "text": [
      "C:\\Users\\koohe\\AppData\\Local\\Temp\\ipykernel_22724\\2848379384.py:1: SettingWithCopyWarning: \n",
      "A value is trying to be set on a copy of a slice from a DataFrame.\n",
      "Try using .loc[row_indexer,col_indexer] = value instead\n",
      "\n",
      "See the caveats in the documentation: https://pandas.pydata.org/pandas-docs/stable/user_guide/indexing.html#returning-a-view-versus-a-copy\n",
      "  spotify_160k['length_category'] = pd.cut(spotify_160k['duration_ms'], bins=[0, 120000, 240000, 360000, float('inf')],\n"
     ]
    }
   ],
   "source": [
    "spotify_160k['length_category'] = pd.cut(spotify_160k['duration_ms'], bins=[0, 120000, 240000, 360000, float('inf')],\n",
    "                               labels=['short', 'medium', 'long', 'very long'])"
   ]
  },
  {
   "cell_type": "code",
   "execution_count": 56,
   "id": "c0bcdc79-67cc-44bb-bfb9-7a2556b5dc68",
   "metadata": {},
   "outputs": [
    {
     "data": {
      "text/plain": [
       "Index(['id', 'name', 'artists', 'duration_ms', 'year', 'acousticness',\n",
       "       'danceability', 'energy', 'instrumentalness', 'loudness', 'tempo',\n",
       "       'mode', 'key', 'popularity', 'decade', 'length_category'],\n",
       "      dtype='object')"
      ]
     },
     "execution_count": 56,
     "metadata": {},
     "output_type": "execute_result"
    }
   ],
   "source": [
    "spotify_160k.columns"
   ]
  },
  {
   "cell_type": "code",
   "execution_count": 57,
   "id": "d6d46708-a414-45f9-b30d-fb7b87753836",
   "metadata": {},
   "outputs": [
    {
     "data": {
      "text/plain": [
       "length_category\n",
       "medium       93292\n",
       "long         40562\n",
       "very long    11801\n",
       "short         9817\n",
       "Name: count, dtype: int64"
      ]
     },
     "execution_count": 57,
     "metadata": {},
     "output_type": "execute_result"
    }
   ],
   "source": [
    "spotify_160k.length_category.value_counts()"
   ]
  },
  {
   "cell_type": "markdown",
   "id": "0808061d-db31-44d3-89eb-dae5a40fa6cb",
   "metadata": {},
   "source": [
    "### h. Adding Genre Labels using Spotify API and GPT 3.5 Turbo"
   ]
  },
  {
   "cell_type": "markdown",
   "id": "fbc56d1f-decb-4a99-b883-c57fc2c18606",
   "metadata": {},
   "source": [
    "#### (1) Installing and Importing Necessary Packages"
   ]
  },
  {
   "cell_type": "code",
   "execution_count": 11,
   "id": "e6f683a4-083c-420e-a6b3-3cdf1879b7bd",
   "metadata": {
    "tags": []
   },
   "outputs": [],
   "source": [
    "# !pip install spotipy --upgrade\n",
    "# !pip install fuzzywuzzy\n",
    "# !pip install openai"
   ]
  },
  {
   "cell_type": "code",
   "execution_count": 20,
   "id": "4a5c4c53-3c75-4fe8-a020-08753cc13662",
   "metadata": {},
   "outputs": [
    {
     "name": "stderr",
     "output_type": "stream",
     "text": [
      "C:\\Users\\koohe\\AppData\\Local\\Programs\\Python\\Python313\\Lib\\site-packages\\fuzzywuzzy\\fuzz.py:11: UserWarning: Using slow pure-python SequenceMatcher. Install python-Levenshtein to remove this warning\n",
      "  warnings.warn('Using slow pure-python SequenceMatcher. Install python-Levenshtein to remove this warning')\n"
     ]
    }
   ],
   "source": [
    "import spotipy\n",
    "import pickle\n",
    "import re\n",
    "import time\n",
    "from fuzzywuzzy import fuzz\n",
    "from openai import OpenAI"
   ]
  },
  {
   "cell_type": "markdown",
   "id": "50ba48e0-4438-4b5c-8df7-52f0281b0769",
   "metadata": {},
   "source": [
    "#### (2) Testing Spotify API Response"
   ]
  },
  {
   "cell_type": "code",
   "execution_count": 16,
   "id": "fa26ee83-7d2b-465c-b267-2e51263b0e4b",
   "metadata": {
    "tags": []
   },
   "outputs": [],
   "source": [
    "sample_data = spotify_160k.sample(100)"
   ]
  },
  {
   "cell_type": "code",
   "execution_count": 17,
   "id": "97fd8aa0-3065-41ba-898b-8cd044b39805",
   "metadata": {
    "tags": []
   },
   "outputs": [
    {
     "data": {
      "text/plain": [
       "42955                               John Martyn\n",
       "23133                     Johann Sebastian Bach\n",
       "48021     John Cafferty & the Beaver Brown Band\n",
       "15546                                 The Kinks\n",
       "26330                                Miles Kane\n",
       "                          ...                  \n",
       "46707                               Marvelous 3\n",
       "35085                                  Les Paul\n",
       "109656                           Claude Debussy\n",
       "64528                                   TobyMac\n",
       "5563                                Louis Prima\n",
       "Name: artists, Length: 100, dtype: object"
      ]
     },
     "execution_count": 17,
     "metadata": {},
     "output_type": "execute_result"
    }
   ],
   "source": [
    "sample_data.artists"
   ]
  },
  {
   "cell_type": "code",
   "execution_count": 19,
   "id": "a62d79b4-1f19-40bd-a3b0-9763bdba1513",
   "metadata": {
    "tags": []
   },
   "outputs": [],
   "source": [
    "from spotipy.oauth2 import SpotifyClientCredentials\n",
    "\n",
    "sp = spotipy.Spotify(auth_manager=SpotifyClientCredentials(\n",
    "    client_id='aa62f5973cb64060acef153aaa2a6a52',\n",
    "    client_secret='0629aeb32d7d4850b98be14f7abf9d09'\n",
    "))"
   ]
  },
  {
   "cell_type": "code",
   "execution_count": 22,
   "id": "28182a6e-b437-48f3-9fb7-911326eff6a3",
   "metadata": {
    "tags": []
   },
   "outputs": [],
   "source": [
    "unique_artists = sample_data['artists'].dropna().unique()\n",
    "artist_genres = {}\n",
    "\n",
    "for artist in unique_artists:\n",
    "    try:\n",
    "        results = sp.search(q='artist:' + artist, type='artist')\n",
    "        items = results['artists']['items']\n",
    "        if items:\n",
    "            artist_genres[artist] = items[0]['genres']  # list of genres\n",
    "        else:\n",
    "            artist_genres[artist] = []\n",
    "    except:\n",
    "        artist_genres[artist] = []"
   ]
  },
  {
   "cell_type": "markdown",
   "id": "636029f6-ea91-4028-89e6-817c23f4ac2b",
   "metadata": {},
   "source": [
    "#### (3) Preparing Genre Map"
   ]
  },
  {
   "cell_type": "code",
   "execution_count": null,
   "id": "edbb4e9f-fec9-4eaa-b53d-a84d6e25794e",
   "metadata": {},
   "outputs": [],
   "source": [
    "# Load the genre list\n",
    "with open(\"spotify-genres.md\", \"r\", encoding=\"utf-8\") as f:\n",
    "    text = f.read()\n",
    "\n",
    "# Extract genres\n",
    "genres = re.findall(r'^\\s*\\d+\\.\\s+(.*)', text, re.MULTILINE)\n",
    "\n",
    "# Updated broad genre keywords\n",
    "broad_map = {\n",
    "    'Metal': ['metal', 'death', 'black', 'doom', 'grind', 'thrash', 'sludge'],\n",
    "    'Rock': ['rock', 'punk', 'grunge', 'emo', 'garage'],\n",
    "    'Pop': ['pop', 'k-pop', 'bubblegum', 'indie pop', 'synthpop'],\n",
    "    'Hip Hop': ['hip hop', 'rap', 'trap', 'gangsta', 'drill', 'lo-fi'],\n",
    "    'Electronic': ['edm', 'techno', 'house', 'ambient', 'electro', 'dubstep', 'idm'],\n",
    "    'Classical': ['classical', 'baroque', 'opera', 'orchestral', 'chamber'],\n",
    "    'Jazz': ['jazz', 'bebop', 'swing', 'free jazz'],\n",
    "    'Blues': ['blues'],\n",
    "    'Country': ['country', 'bluegrass'],\n",
    "    'R&B': ['r&b', 'soul', 'neo soul', 'quiet storm', 'motown'],\n",
    "    'Experimental': ['experimental', 'avant-garde', 'noise', 'glitch'],\n",
    "    'Folk': ['folk', 'singer-songwriter', 'acoustic'],\n",
    "}\n",
    "\n",
    "def classify_genre(genre, threshold=80):\n",
    "    g = genre.lower()\n",
    "    for broad, keywords in broad_map.items():\n",
    "        for kw in keywords:\n",
    "            if kw in g:\n",
    "                return broad\n",
    "            elif fuzz.partial_ratio(g, kw) >= threshold:\n",
    "                return broad\n",
    "    return \"Other\"\n",
    "\n",
    "# Map all genres\n",
    "mapped = [{'subgenre': g, 'broad_genre': classify_genre(g)} for g in genres]\n",
    "\n",
    "# Save to CSV\n",
    "df = pd.DataFrame(mapped)\n",
    "df.to_csv(\"spotify_genre_mapping.csv\", index=False)\n",
    "print(f\"Saved {len(df)} mapped genres to spotify_genre_mapping.csv\")"
   ]
  },
  {
   "cell_type": "markdown",
   "id": "3b7af178-8770-4bd0-adcc-8fdebf9f4e23",
   "metadata": {},
   "source": [
    "#### (4) Classifying Genres using Spotify API"
   ]
  },
  {
   "cell_type": "code",
   "execution_count": 44,
   "id": "19c94588-6dd2-48d5-8e21-d4031cb014dc",
   "metadata": {
    "tags": []
   },
   "outputs": [],
   "source": [
    "def classify_genres(genres):\n",
    "    if not genres:\n",
    "        return (\"Unknown\", \"Unknown\")\n",
    "    \n",
    "    for g in genres:\n",
    "        g_lower = g.lower()\n",
    "        if g_lower in genre_lookup:\n",
    "            return (genre_lookup[g_lower], g)  # (broad, subgenre)\n",
    "    \n",
    "    return (\"Other\", genres[0])"
   ]
  },
  {
   "cell_type": "code",
   "execution_count": 55,
   "id": "4a53bea9-76f1-4140-9773-643e3f29e187",
   "metadata": {
    "tags": []
   },
   "outputs": [],
   "source": [
    "mapping_df = pd.read_csv(\"spotify_genre_mapping.csv\", encoding='latin-1')\n",
    "genre_lookup = dict(zip(mapping_df['subgenre'].str.lower(), mapping_df['broad_genre']))"
   ]
  },
  {
   "cell_type": "code",
   "execution_count": 64,
   "id": "ee756a6b-04fc-4ea3-813b-7556fa4bd551",
   "metadata": {},
   "outputs": [],
   "source": [
    "checkpoint_file = \"artist_genres_checkpoint.pkl\"\n",
    "checkpoint_every = 500"
   ]
  },
  {
   "cell_type": "code",
   "execution_count": 46,
   "id": "48a8b714-486b-4923-9b17-ee466233e046",
   "metadata": {
    "tags": []
   },
   "outputs": [],
   "source": [
    "for artist in unique_artists:\n",
    "    try:\n",
    "        results = sp.search(q='artist:' + artist, type='artist')\n",
    "        items = results['artists']['items']\n",
    "        if items:\n",
    "            genres = items[0]['genres']\n",
    "            broad, sub = classify_genres(genres)\n",
    "            artist_genres[artist] = {\n",
    "                \"broad_genre\": broad,\n",
    "                \"subgenre\": sub\n",
    "            }\n",
    "        else:\n",
    "            artist_genres[artist] = {\n",
    "                \"broad_genre\": \"Unknown\",\n",
    "                \"subgenre\": \"Unknown\"\n",
    "            }\n",
    "    except Exception as e:\n",
    "        artist_genres[artist] = {\n",
    "            \"broad_genre\": \"Unknown\",\n",
    "            \"subgenre\": \"Unknown\"\n",
    "        }"
   ]
  },
  {
   "cell_type": "code",
   "execution_count": 63,
   "id": "fa6bbcae-4d0e-42c8-9557-491682d7b5fc",
   "metadata": {},
   "outputs": [],
   "source": [
    "unique_artists = spotify_160k['artists'].dropna().unique()\n",
    "spotify_160k_genres = spotify_160k"
   ]
  },
  {
   "cell_type": "code",
   "execution_count": 65,
   "id": "b30d9aae-42d2-4d55-8ef9-e3717ab1799b",
   "metadata": {
    "scrolled": true
   },
   "outputs": [
    {
     "name": "stdout",
     "output_type": "stream",
     "text": [
      "💾 Saved checkpoint at artist #0\n",
      "💾 Saved checkpoint at artist #500\n",
      "💾 Saved checkpoint at artist #1000\n",
      "💾 Saved checkpoint at artist #1500\n",
      "💾 Saved checkpoint at artist #2000\n",
      "💾 Saved checkpoint at artist #2500\n",
      "💾 Saved checkpoint at artist #3000\n",
      "💾 Saved checkpoint at artist #3500\n",
      "💾 Saved checkpoint at artist #4000\n",
      "💾 Saved checkpoint at artist #4500\n",
      "💾 Saved checkpoint at artist #5000\n",
      "💾 Saved checkpoint at artist #5500\n",
      "💾 Saved checkpoint at artist #6000\n",
      "💾 Saved checkpoint at artist #6500\n",
      "💾 Saved checkpoint at artist #7000\n",
      "💾 Saved checkpoint at artist #7500\n",
      "💾 Saved checkpoint at artist #8000\n",
      "💾 Saved checkpoint at artist #8500\n",
      "💾 Saved checkpoint at artist #9000\n",
      "💾 Saved checkpoint at artist #9500\n",
      "💾 Saved checkpoint at artist #10000\n",
      "💾 Saved checkpoint at artist #10500\n",
      "💾 Saved checkpoint at artist #11000\n",
      "💾 Saved checkpoint at artist #11500\n",
      "💾 Saved checkpoint at artist #12000\n",
      "💾 Saved checkpoint at artist #12500\n",
      "💾 Saved checkpoint at artist #13000\n",
      "💾 Saved checkpoint at artist #13500\n",
      "💾 Saved checkpoint at artist #14000\n",
      "💾 Saved checkpoint at artist #14500\n",
      "💾 Saved checkpoint at artist #15000\n",
      "💾 Saved checkpoint at artist #15500\n",
      "💾 Saved checkpoint at artist #16000\n",
      "💾 Saved checkpoint at artist #16500\n",
      "💾 Saved checkpoint at artist #17000\n",
      "💾 Saved checkpoint at artist #17500\n",
      "💾 Saved checkpoint at artist #18000\n",
      "💾 Saved checkpoint at artist #18500\n",
      "💾 Saved checkpoint at artist #19000\n",
      "💾 Saved checkpoint at artist #19500\n",
      "Final checkpoint saved.\n"
     ]
    },
    {
     "ename": "AttributeError",
     "evalue": "'DataFrame' object has no attribute 'sample_data'",
     "output_type": "error",
     "traceback": [
      "\u001b[31m---------------------------------------------------------------------------\u001b[39m",
      "\u001b[31mAttributeError\u001b[39m                            Traceback (most recent call last)",
      "\u001b[32m~\\AppData\\Local\\Temp\\ipykernel_19744\\26228517.py\u001b[39m in \u001b[36m?\u001b[39m\u001b[34m()\u001b[39m\n\u001b[32m     37\u001b[39m \n\u001b[32m     38\u001b[39m \u001b[38;5;66;03m# --- Merge with original dataset ---\u001b[39;00m\n\u001b[32m     39\u001b[39m genre_df = pd.DataFrame.from_dict(artist_genres, orient=\u001b[33m'index'\u001b[39m)\n\u001b[32m     40\u001b[39m genre_df.index.name = \u001b[33m'artists'\u001b[39m\n\u001b[32m---> \u001b[39m\u001b[32m41\u001b[39m spotify_160k_genres = spotify_160k_genres.sample_data.merge(genre_df, on=\u001b[33m'artists'\u001b[39m, how=\u001b[33m'left'\u001b[39m)\n\u001b[32m     42\u001b[39m sample_data.to_csv(\u001b[33m\"160k_Spotify_with_Genres.csv\"\u001b[39m, index=\u001b[38;5;28;01mFalse\u001b[39;00m)\n\u001b[32m     43\u001b[39m print(\u001b[33m\"Saved final dataset to '160k_Spotify_with_Genres.csv'\"\u001b[39m)\n",
      "\u001b[32m~\\AppData\\Local\\Programs\\Python\\Python313\\Lib\\site-packages\\pandas\\core\\generic.py\u001b[39m in \u001b[36m?\u001b[39m\u001b[34m(self, name)\u001b[39m\n\u001b[32m   6295\u001b[39m             \u001b[38;5;28;01mand\u001b[39;00m name \u001b[38;5;28;01mnot\u001b[39;00m \u001b[38;5;28;01min\u001b[39;00m self._accessors\n\u001b[32m   6296\u001b[39m             \u001b[38;5;28;01mand\u001b[39;00m self._info_axis._can_hold_identifiers_and_holds_name(name)\n\u001b[32m   6297\u001b[39m         ):\n\u001b[32m   6298\u001b[39m             \u001b[38;5;28;01mreturn\u001b[39;00m self[name]\n\u001b[32m-> \u001b[39m\u001b[32m6299\u001b[39m         \u001b[38;5;28;01mreturn\u001b[39;00m object.__getattribute__(self, name)\n",
      "\u001b[31mAttributeError\u001b[39m: 'DataFrame' object has no attribute 'sample_data'"
     ]
    }
   ],
   "source": [
    "artist_genres = {}\n",
    "\n",
    "for i, artist in enumerate(unique_artists):\n",
    "    if artist in artist_genres:\n",
    "        continue\n",
    "    try:\n",
    "        results = sp.search(q='artist:' + artist, type='artist')\n",
    "        items = results['artists']['items']\n",
    "        if items:\n",
    "            genres = items[0]['genres']\n",
    "            broad, sub = classify_genres(genres)\n",
    "            artist_genres[artist] = {\n",
    "                \"broad_genre\": broad,\n",
    "                \"subgenre\": sub\n",
    "            }\n",
    "        else:\n",
    "            artist_genres[artist] = {\n",
    "                \"broad_genre\": \"Unknown\",\n",
    "                \"subgenre\": \"Unknown\"\n",
    "            }\n",
    "    except Exception as e:\n",
    "        artist_genres[artist] = {\n",
    "            \"broad_genre\": \"Unknown\",\n",
    "            \"subgenre\": \"Unknown\"\n",
    "        }\n",
    "\n",
    "    # Save every 100 artists\n",
    "    if i % 500 == 0:\n",
    "        with open(checkpoint_file, \"wb\") as f:\n",
    "            pickle.dump(artist_genres, f)\n",
    "        print(f\"💾 Saved checkpoint at artist #{i}\")\n",
    "\n",
    "with open(checkpoint_file, \"wb\") as f:\n",
    "    pickle.dump(artist_genres, f)\n",
    "print(\"Final checkpoint saved.\")"
   ]
  },
  {
   "cell_type": "code",
   "execution_count": 72,
   "id": "2cf802d5-57a1-4187-97ce-48791c27fee6",
   "metadata": {
    "scrolled": true
   },
   "outputs": [
    {
     "data": {
      "text/plain": [
       "broad_genre\n",
       "Unknown         7222\n",
       "Other           4321\n",
       "Rock            1808\n",
       "Pop             1161\n",
       "Folk            1103\n",
       "Hip Hop          948\n",
       "Jazz             823\n",
       "Country          490\n",
       "R&B              481\n",
       "Electronic       433\n",
       "Metal            386\n",
       "Blues            324\n",
       "Classical        224\n",
       "Experimental      51\n",
       "Name: count, dtype: int64"
      ]
     },
     "execution_count": 72,
     "metadata": {},
     "output_type": "execute_result"
    }
   ],
   "source": [
    "genre_df.broad_genre.value_counts()"
   ]
  },
  {
   "cell_type": "code",
   "execution_count": 70,
   "id": "9dcf6f4c-6683-4b07-9062-0fee10b73aae",
   "metadata": {
    "tags": []
   },
   "outputs": [
    {
     "name": "stdout",
     "output_type": "stream",
     "text": [
      "Genres missing from mapping: ['acid rock', 'acoustic country', 'afro house', 'afropop', 'afroswing', 'alt country', 'amapiano', 'ambient folk', 'americana', 'aor', 'arabic hip hop', 'arena rock', 'argentine trap', 'art pop', 'axé', 'ballroom vogue', 'bangla pop', 'batak', 'bedroom pop', 'bhajan', 'bisrock', 'blues rock', 'bollywood', 'boom bap', 'brazilian bass', 'brazilian jazz', 'brazilian phonk', 'brazilian trap', 'brooklyn drill', 'budots', 'candombe', 'cedm', 'cha cha cha', 'chamamé', 'chamber music', 'chicago drill', 'chilean trap', 'chinese indie', 'chinese rock', 'christian', 'christian country', 'christian folk', 'city pop', 'classic blues', 'classic country', 'classic soul', 'cloud rap', 'cold wave', 'colombian pop', 'contemporary r&b', 'corrido', 'corridos tumbados', 'country hip hop', 'cuarteto', 'cumbia norteña', 'dembow', 'dembow belico', 'desi pop', 'devotional', 'disco polo', 'drift phonk', 'drill', 'edm trap', 'egyptian hip hop', 'egyptian pop', 'egyptian shaabi', 'electro corridos', 'electrocumbia', 'emo rap', 'ethiopian jazz', 'experimental hip hop', 'finnish rock', 'flamenco pop', 'flamenco urbano', 'folk pop', 'forró', 'french house', 'french jazz', 'french rap', 'future bass', 'future house', 'g-funk', 'g-house', 'gnawa', 'go-go', 'gospel r&b', 'gregorian chant', 'guaracha', 'gujarati garba', 'gujarati pop', 'haryanvi pop', 'heavy metal', 'hi-nrg', 'huayno', 'hyperpop', 'hypertechno', 'idm', 'indian indie', 'indie', 'indie punk', 'indie soul', 'italian singer-songwriter', 'italian trap', 'italo disco', 'japanese classical', 'japanese vgm', 'jazz house', 'jazz rap', 'jersey club', 'k-ballad', 'k-rap', 'kannada pop', 'kayokyoku', 'khaleeji', 'kollywood', 'kundiman', 'lagu jawa', 'latin country', 'latin dance', 'latin folklore', 'latin indie', 'latin r&b', 'latin rock', 'lo-fi beats', 'lo-fi house', 'lo-fi indie', 'lullaby', 'mahraganat', 'malayalam hip hop', 'malayalam pop', 'marathi pop', 'melodic bass', 'melodic house', 'melodic techno', 'mexican hip hop', 'mexican rock', 'midwest emo', 'minimalism', 'mollywood', 'murga', 'música mexicana', 'native american music', 'nederpop', 'neoperreo', 'new orleans bounce', 'new york drill', 'nightcore', 'norteño', 'norteño-sax', 'nova mpb', 'nueva trova', 'orchestra', 'oyun havasi', 'p-pop', 'pentecostal', 'philly soul', 'phonk', 'pinoy hip hop', 'pinoy r&b', 'pop country', 'pop soul', 'post-rock', 'queercore', 'rage rap', 'raï', 'reggaeton chileno', 'reggaeton mexa', 'requiem', 'retro pop', 'retro soul', 'rock and roll', 'rock en español', 'rock quebecois', 'rocksteady', 'rumba congolaise', 'sad sierreño', 'schlagerparty', 'sea shanties', 'seresta', 'sexy drill', 'sholawat', 'sierreño', 'slap house', 'slowcore', 'soft pop', 'son cubano', 'southern gothic', 'space music', 'spanish-language reggae', 'stutter house', 'sufi', 'swing music', 'synthwave', 'taiwanese indie', 'tamil dance', 'tamil hip hop', 'tamil indie', 'tamil pop', 'telugu pop', 'thai rock', 'tollywood', 'traditional music', 'trap', 'trap latino', 'trap metal', 'trap soul', 'tropical house', 'tropical music', 'turreo', 'uk drill', 'uk r&b', 'v-pop', 'variété française', 'villancicos', 'west coast hip hop']\n"
     ]
    }
   ],
   "source": [
    "unmapped = set()\n",
    "\n",
    "for genres in artist_genres.values():\n",
    "    sub = genres['subgenre']\n",
    "    if sub not in genre_lookup and sub != \"Unknown\":\n",
    "        unmapped.add(sub.lower())\n",
    "\n",
    "print(\"Genres missing from mapping:\", sorted(unmapped))"
   ]
  },
  {
   "cell_type": "code",
   "execution_count": 71,
   "id": "03afbff1-ad13-4f26-900c-f61317ca9d65",
   "metadata": {},
   "outputs": [
    {
     "data": {
      "text/plain": [
       "array(['Unknown', 'Rock', 'Hip Hop', 'Blues', 'Other', 'Pop', 'Classical',\n",
       "       'Electronic', 'Jazz', 'R&B', 'Country', 'Folk', 'Metal',\n",
       "       'Experimental'], dtype=object)"
      ]
     },
     "execution_count": 71,
     "metadata": {},
     "output_type": "execute_result"
    }
   ],
   "source": [
    "genre_df.broad_genre.unique()"
   ]
  },
  {
   "cell_type": "code",
   "execution_count": 73,
   "id": "11009583-acd9-4a21-952b-a5d54a775b52",
   "metadata": {},
   "outputs": [
    {
     "name": "stdout",
     "output_type": "stream",
     "text": [
      "Artists with no genres from Spotify: 7222\n",
      "Artists with unmapped genres: 0\n"
     ]
    }
   ],
   "source": [
    "no_genre = []\n",
    "not_mapped = []\n",
    "\n",
    "for artist, data in artist_genres.items():\n",
    "    if data['broad_genre'] == 'Unknown':\n",
    "        genres_returned = data['subgenre']\n",
    "        if genres_returned == 'Unknown':\n",
    "            no_genre.append(artist)  # Spotify gave no genres\n",
    "        else:\n",
    "            not_mapped.append((artist, genres_returned))\n",
    "\n",
    "print(f\"Artists with no genres from Spotify: {len(no_genre)}\")\n",
    "print(f\"Artists with unmapped genres: {len(not_mapped)}\")"
   ]
  },
  {
   "cell_type": "markdown",
   "id": "305fa07e-8583-420b-8713-44724cc06700",
   "metadata": {},
   "source": [
    "#### (5) Completing Missing Genres using GPT 3.5 Turbo"
   ]
  },
  {
   "cell_type": "code",
   "execution_count": 92,
   "id": "dbc219bd-86c7-4338-85b3-66c9839b0af9",
   "metadata": {},
   "outputs": [
    {
     "name": "stdout",
     "output_type": "stream",
     "text": [
      "🎯 Total artists with Unknown broad genre: 7222\n",
      "💾 Saved checkpoint at artist #100: Amerie\n",
      "💾 Saved checkpoint at artist #200: Big Time Rush\n",
      "💾 Saved checkpoint at artist #300: 520Hz\n",
      "💾 Saved checkpoint at artist #400: Carlos Santana\n",
      "💾 Saved checkpoint at artist #500: Zeenat Begum\n",
      "💾 Saved checkpoint at artist #600: Deepak Chopra\n",
      "💾 Saved checkpoint at artist #700: Glass Animals\n",
      "💾 Saved checkpoint at artist #800: World Party\n",
      "💾 Saved checkpoint at artist #900: Milli Vanilli\n",
      "💾 Saved checkpoint at artist #1000: Rihanna\n",
      "💾 Saved checkpoint at artist #1100: Indubala Devi\n",
      "💾 Saved checkpoint at artist #1200: Aqua\n",
      "💾 Saved checkpoint at artist #1300: Megan Thee Stallion\n",
      "💾 Saved checkpoint at artist #1400: Frank Ocean\n",
      "💾 Saved checkpoint at artist #1500: Karen Akers\n",
      "💾 Saved checkpoint at artist #1600: Cam Meekins\n",
      "💾 Saved checkpoint at artist #1700: Gin Wigmore\n",
      "💾 Saved checkpoint at artist #1800: Shorty Bralik\n",
      "💾 Saved checkpoint at artist #1900: Brown Noise for Babies\n",
      "💾 Saved checkpoint at artist #2000: Caillou\n",
      "💾 Saved checkpoint at artist #2100: John Barry Orchestra\n",
      "💾 Saved checkpoint at artist #2200: Manuel Fernandez Caballero\n",
      "💾 Saved checkpoint at artist #2300: Erik Eriksson\n",
      "💾 Saved checkpoint at artist #2400: [\"Destiny's Child\", 'Missy Elliott']\n",
      "💾 Saved checkpoint at artist #2500: RMR\n",
      "💾 Saved checkpoint at artist #2600: Nino Tempo & April Stevens\n",
      "💾 Saved checkpoint at artist #2700: Ken Darby\n",
      "💾 Saved checkpoint at artist #2800: Bleachers\n",
      "💾 Saved checkpoint at artist #2900: Leela Sawant\n",
      "💾 Saved checkpoint at artist #3000: Joey Purp\n",
      "💾 Saved checkpoint at artist #3100: Arthur Lee\n",
      "💾 Saved checkpoint at artist #3200: Belly\n",
      "💾 Saved checkpoint at artist #3300: Lamp\n",
      "💾 Saved checkpoint at artist #3400: Laurie Johnson\n",
      "💾 Saved checkpoint at artist #3500: Ghostland Observatory\n",
      "💾 Saved checkpoint at artist #3600: Pánfilo de Narváez\n",
      "💾 Saved checkpoint at artist #3700: Cub Sport\n",
      "💾 Saved checkpoint at artist #3800: Del Water Gap\n",
      "💾 Saved checkpoint at artist #3900: MS MR\n",
      "💾 Saved checkpoint at artist #4000: Tab Hunter\n",
      "💾 Saved checkpoint at artist #4100: The Jhamels\n",
      "💾 Saved checkpoint at artist #4200: Folk Implosion\n",
      "💾 Saved checkpoint at artist #4300: Dulari\n",
      "💾 Saved checkpoint at artist #4400: Mikhail Glinka\n",
      "💾 Saved checkpoint at artist #4500: Ka Piko\n",
      "💾 Saved checkpoint at artist #4600: The Arcs\n",
      "💾 Saved checkpoint at artist #4700: Rich Gang\n",
      "💾 Saved checkpoint at artist #4800: Roger Glover\n",
      "💾 Saved checkpoint at artist #4900: Giorgos Meintanas\n",
      "💾 Saved checkpoint at artist #5000: Justin Hurwitz\n",
      "💾 Saved checkpoint at artist #5100: Barney Martin\n",
      "💾 Saved checkpoint at artist #5200: Stwo\n",
      "💾 Saved checkpoint at artist #5300: Milios\n",
      "💾 Saved checkpoint at artist #5400: Billy Gilman\n",
      "💾 Saved checkpoint at artist #5500: Raúl Abríl\n",
      "💾 Saved checkpoint at artist #5600: Jaron And The Long Road To Love\n",
      "💾 Saved checkpoint at artist #5700: Sam Spence\n",
      "💾 Saved checkpoint at artist #5800: Castelnuevo-Tedesco\n",
      "💾 Saved checkpoint at artist #5900: Search Boys\n",
      "💾 Saved checkpoint at artist #6000: Jesús De Monasterio\n",
      "💾 Saved checkpoint at artist #6100: Grace Potter\n",
      "💾 Saved checkpoint at artist #6200: Giorgos Panagiotopoylos-Koyros)\n",
      "💾 Saved checkpoint at artist #6300: R.B. Greaves\n",
      "💾 Saved checkpoint at artist #6400: Jimmie Komack\n",
      "💾 Saved checkpoint at artist #6500: Peter Maxwell Davies\n",
      "💾 Saved checkpoint at artist #6600: lil ricefield\n",
      "💾 Saved checkpoint at artist #6700: José Velez\n",
      "💾 Saved checkpoint at artist #6800: Véronique Flamand-Somers\n",
      "💾 Saved checkpoint at artist #6900: Valee\n",
      "💾 Saved checkpoint at artist #7000: Surf Mesa\n",
      "💾 Saved checkpoint at artist #7100: Δημήτρης Αραπάκης\n",
      "💾 Saved checkpoint at artist #7200: 施京子\n",
      "GPT tagging complete with standardized broad genres.\n"
     ]
    }
   ],
   "source": [
    "# === CONFIG ===\n",
    "client = OpenAI(api_key=\"######\")\n",
    "PICKLE_PATH = \"artist_genres_checkpoint.pkl\"\n",
    "SLEEP_TIME = 0.75\n",
    "\n",
    "BROAD_GENRES = [\n",
    "    \"Rock\",\n",
    "    \"Pop\",\n",
    "    \"Folk\",\n",
    "    \"Hip Hop\",\n",
    "    \"Jazz\",\n",
    "    \"Country\",\n",
    "    \"R&B\",\n",
    "    \"Electronic\",\n",
    "    \"Metal\",\n",
    "    \"Blues\",\n",
    "    \"Classical\",\n",
    "    \"Experimental\"\n",
    "    \"Other\"\n",
    "]\n",
    "\n",
    "# === LOAD EXISTING DATA ===\n",
    "with open(PICKLE_PATH, \"rb\") as f:\n",
    "    artist_genres = pickle.load(f)\n",
    "\n",
    "unknown_artists = [artist for artist, data in artist_genres.items()\n",
    "                   if data['broad_genre'] == 'Unknown']\n",
    "\n",
    "print(f\"🎯 Total artists with Unknown broad genre: {len(unknown_artists)}\")\n",
    "\n",
    "# === GENRE MATCHING ===\n",
    "def fuzzy_match_broad_genre(gpt_response):\n",
    "    cleaned = gpt_response.strip().lower()\n",
    "    best_match = None\n",
    "    best_score = 0\n",
    "    for broad in BROAD_GENRES:\n",
    "        score = fuzz.ratio(cleaned, broad.lower())\n",
    "        if score > best_score:\n",
    "            best_score = score\n",
    "            best_match = broad\n",
    "    return best_match if best_score >= 70 else \"Unknown\"\n",
    "\n",
    "# === GPT GENRE QUERY ===\n",
    "def get_broad_genre_from_gpt(artist_name):\n",
    "    prompt = (\n",
    "        \"You are a music genre classification expert. \"\n",
    "        \"Given an artist name, respond with exactly one broad genre from this list only:\\n\" +\n",
    "        \", \".join(BROAD_GENRES) +\n",
    "        \"\\nAvoid saying 'Other' if possible.\\n\"\n",
    "        f\"What is the most appropriate broad music genre for the artist '{artist_name}'?\\n\"\n",
    "        \"Respond with only the genre name.\"\n",
    "    )\n",
    "    try:\n",
    "        response = client.chat.completions.create(\n",
    "            model=\"gpt-3.5-turbo\",\n",
    "            messages=[\n",
    "                {\"role\": \"system\", \"content\": \"You are a helpful assistant.\"},\n",
    "                {\"role\": \"user\", \"content\": prompt}\n",
    "            ],\n",
    "            max_tokens=10,\n",
    "            temperature=0.3\n",
    "        )\n",
    "        content = response.choices[0].message.content.strip()\n",
    "        return fuzzy_match_broad_genre(content)\n",
    "    except Exception as e:\n",
    "        print(f\"⚠️ OpenAI error for '{artist_name}': {e}\")\n",
    "        return \"Unknown\"\n",
    "\n",
    "# === MAIN LOOP ===\n",
    "for i, artist in enumerate(unknown_artists):\n",
    "    broad_genre = get_broad_genre_from_gpt(artist)\n",
    "\n",
    "    if broad_genre != \"Unknown\":\n",
    "        artist_genres[artist] = {\n",
    "            \"broad_genre\": broad_genre,\n",
    "            \"subgenre\": \"Unknown\"\n",
    "        }\n",
    "\n",
    "    if (i + 1) % 100 == 0:\n",
    "       with open(PICKLE_PATH, \"wb\") as f:\n",
    "            pickle.dump(artist_genres, f)\n",
    "       print(f\"💾 Saved checkpoint at artist #{i+1}: {artist}\")\n",
    "\n",
    "    time.sleep(SLEEP_TIME)\n",
    "\n",
    "# Final save\n",
    "with open(PICKLE_PATH, \"wb\") as f:\n",
    "    pickle.dump(artist_genres, f)\n",
    "\n",
    "print(\"GPT tagging complete with standardized broad genres.\")"
   ]
  },
  {
   "cell_type": "code",
   "execution_count": 58,
   "id": "7883bd94-37d2-4b65-92cd-84619bfebfa7",
   "metadata": {},
   "outputs": [],
   "source": [
    "# Load the genre classifications from the pickle file\n",
    "with open(\"artist_genres_checkpoint.pkl\", \"rb\") as f:\n",
    "    artist_genres = pickle.load(f)\n",
    "\n",
    "# Convert genre dict to DataFrame\n",
    "genre_df = pd.DataFrame.from_dict(artist_genres, orient='index')\n",
    "genre_df.index.name = 'artists'\n",
    "genre_df = genre_df.reset_index()\n",
    "\n",
    "genre_df['artists'] = genre_df['artists'].str.replace(r\"^\\['(.*?)'\\].*$\", r\"\\1\", regex=True).str.strip()\n",
    "\n",
    "# Merge into original dataset\n",
    "merged = spotify_160k.merge(genre_df, on='artists', how='left')\n",
    "\n",
    "merged['broad_genre'] = merged['broad_genre'].replace({\n",
    "    \"ExperimentalOther\": \"Experimental\"\n",
    "})\n",
    "\n",
    "# Save to new CSV\n",
    "merged.to_csv(\"160k_Spotify_With_Genres.csv\", index=False)"
   ]
  },
  {
   "cell_type": "code",
   "execution_count": 59,
   "id": "370d548f-454a-4aed-8955-0eaa5d8e5611",
   "metadata": {},
   "outputs": [],
   "source": [
    "spotify_160k_genres = pd.read_csv('160k_Spotify_With_Genres.csv')"
   ]
  },
  {
   "cell_type": "code",
   "execution_count": 60,
   "id": "a8973acb-f5a5-4d95-9ef6-34cfcf7762a5",
   "metadata": {
    "scrolled": true
   },
   "outputs": [
    {
     "data": {
      "text/html": [
       "<div>\n",
       "<style scoped>\n",
       "    .dataframe tbody tr th:only-of-type {\n",
       "        vertical-align: middle;\n",
       "    }\n",
       "\n",
       "    .dataframe tbody tr th {\n",
       "        vertical-align: top;\n",
       "    }\n",
       "\n",
       "    .dataframe thead th {\n",
       "        text-align: right;\n",
       "    }\n",
       "</style>\n",
       "<table border=\"1\" class=\"dataframe\">\n",
       "  <thead>\n",
       "    <tr style=\"text-align: right;\">\n",
       "      <th></th>\n",
       "      <th>duration_ms</th>\n",
       "      <th>year</th>\n",
       "      <th>acousticness</th>\n",
       "      <th>danceability</th>\n",
       "      <th>energy</th>\n",
       "      <th>instrumentalness</th>\n",
       "      <th>loudness</th>\n",
       "      <th>tempo</th>\n",
       "      <th>mode</th>\n",
       "      <th>key</th>\n",
       "      <th>popularity</th>\n",
       "    </tr>\n",
       "  </thead>\n",
       "  <tbody>\n",
       "    <tr>\n",
       "      <th>count</th>\n",
       "      <td>1.554720e+05</td>\n",
       "      <td>155472.000000</td>\n",
       "      <td>155472.000000</td>\n",
       "      <td>155472.000000</td>\n",
       "      <td>155472.000000</td>\n",
       "      <td>155472.000000</td>\n",
       "      <td>155472.000000</td>\n",
       "      <td>155472.000000</td>\n",
       "      <td>155472.000000</td>\n",
       "      <td>155472.000000</td>\n",
       "      <td>155472.000000</td>\n",
       "    </tr>\n",
       "    <tr>\n",
       "      <th>mean</th>\n",
       "      <td>2.302350e+05</td>\n",
       "      <td>1977.338190</td>\n",
       "      <td>0.493272</td>\n",
       "      <td>0.538488</td>\n",
       "      <td>0.488703</td>\n",
       "      <td>0.160466</td>\n",
       "      <td>-11.356073</td>\n",
       "      <td>116.978218</td>\n",
       "      <td>0.707497</td>\n",
       "      <td>5.200891</td>\n",
       "      <td>31.344287</td>\n",
       "    </tr>\n",
       "    <tr>\n",
       "      <th>std</th>\n",
       "      <td>1.205735e+05</td>\n",
       "      <td>25.629841</td>\n",
       "      <td>0.376423</td>\n",
       "      <td>0.175222</td>\n",
       "      <td>0.267012</td>\n",
       "      <td>0.307691</td>\n",
       "      <td>5.639053</td>\n",
       "      <td>30.786826</td>\n",
       "      <td>0.454913</td>\n",
       "      <td>3.516626</td>\n",
       "      <td>21.491547</td>\n",
       "    </tr>\n",
       "    <tr>\n",
       "      <th>min</th>\n",
       "      <td>5.108000e+03</td>\n",
       "      <td>1921.000000</td>\n",
       "      <td>0.000000</td>\n",
       "      <td>0.000000</td>\n",
       "      <td>0.000000</td>\n",
       "      <td>0.000000</td>\n",
       "      <td>-60.000000</td>\n",
       "      <td>0.000000</td>\n",
       "      <td>0.000000</td>\n",
       "      <td>0.000000</td>\n",
       "      <td>0.000000</td>\n",
       "    </tr>\n",
       "    <tr>\n",
       "      <th>25%</th>\n",
       "      <td>1.705330e+05</td>\n",
       "      <td>1957.000000</td>\n",
       "      <td>0.094400</td>\n",
       "      <td>0.418000</td>\n",
       "      <td>0.264000</td>\n",
       "      <td>0.000000</td>\n",
       "      <td>-14.465000</td>\n",
       "      <td>93.466750</td>\n",
       "      <td>0.000000</td>\n",
       "      <td>2.000000</td>\n",
       "      <td>12.000000</td>\n",
       "    </tr>\n",
       "    <tr>\n",
       "      <th>50%</th>\n",
       "      <td>2.078770e+05</td>\n",
       "      <td>1978.000000</td>\n",
       "      <td>0.494000</td>\n",
       "      <td>0.548000</td>\n",
       "      <td>0.480000</td>\n",
       "      <td>0.000202</td>\n",
       "      <td>-10.470000</td>\n",
       "      <td>114.859500</td>\n",
       "      <td>1.000000</td>\n",
       "      <td>5.000000</td>\n",
       "      <td>33.000000</td>\n",
       "    </tr>\n",
       "    <tr>\n",
       "      <th>75%</th>\n",
       "      <td>2.620618e+05</td>\n",
       "      <td>1999.000000</td>\n",
       "      <td>0.887000</td>\n",
       "      <td>0.668000</td>\n",
       "      <td>0.709000</td>\n",
       "      <td>0.084500</td>\n",
       "      <td>-7.116000</td>\n",
       "      <td>135.807000</td>\n",
       "      <td>1.000000</td>\n",
       "      <td>8.000000</td>\n",
       "      <td>48.000000</td>\n",
       "    </tr>\n",
       "    <tr>\n",
       "      <th>max</th>\n",
       "      <td>5.403500e+06</td>\n",
       "      <td>2020.000000</td>\n",
       "      <td>0.996000</td>\n",
       "      <td>0.988000</td>\n",
       "      <td>1.000000</td>\n",
       "      <td>1.000000</td>\n",
       "      <td>0.000000</td>\n",
       "      <td>244.091000</td>\n",
       "      <td>1.000000</td>\n",
       "      <td>11.000000</td>\n",
       "      <td>100.000000</td>\n",
       "    </tr>\n",
       "  </tbody>\n",
       "</table>\n",
       "</div>"
      ],
      "text/plain": [
       "        duration_ms           year   acousticness   danceability  \\\n",
       "count  1.554720e+05  155472.000000  155472.000000  155472.000000   \n",
       "mean   2.302350e+05    1977.338190       0.493272       0.538488   \n",
       "std    1.205735e+05      25.629841       0.376423       0.175222   \n",
       "min    5.108000e+03    1921.000000       0.000000       0.000000   \n",
       "25%    1.705330e+05    1957.000000       0.094400       0.418000   \n",
       "50%    2.078770e+05    1978.000000       0.494000       0.548000   \n",
       "75%    2.620618e+05    1999.000000       0.887000       0.668000   \n",
       "max    5.403500e+06    2020.000000       0.996000       0.988000   \n",
       "\n",
       "              energy  instrumentalness       loudness          tempo  \\\n",
       "count  155472.000000     155472.000000  155472.000000  155472.000000   \n",
       "mean        0.488703          0.160466     -11.356073     116.978218   \n",
       "std         0.267012          0.307691       5.639053      30.786826   \n",
       "min         0.000000          0.000000     -60.000000       0.000000   \n",
       "25%         0.264000          0.000000     -14.465000      93.466750   \n",
       "50%         0.480000          0.000202     -10.470000     114.859500   \n",
       "75%         0.709000          0.084500      -7.116000     135.807000   \n",
       "max         1.000000          1.000000       0.000000     244.091000   \n",
       "\n",
       "                mode            key     popularity  \n",
       "count  155472.000000  155472.000000  155472.000000  \n",
       "mean        0.707497       5.200891      31.344287  \n",
       "std         0.454913       3.516626      21.491547  \n",
       "min         0.000000       0.000000       0.000000  \n",
       "25%         0.000000       2.000000      12.000000  \n",
       "50%         1.000000       5.000000      33.000000  \n",
       "75%         1.000000       8.000000      48.000000  \n",
       "max         1.000000      11.000000     100.000000  "
      ]
     },
     "execution_count": 60,
     "metadata": {},
     "output_type": "execute_result"
    }
   ],
   "source": [
    "spotify_160k_genres.describe()"
   ]
  },
  {
   "cell_type": "code",
   "execution_count": 62,
   "id": "94f4cd65-cf8c-4169-ada0-a53b17ca48c5",
   "metadata": {},
   "outputs": [
    {
     "data": {
      "text/plain": [
       "broad_genre\n",
       "Rock            28833\n",
       "Other           28122\n",
       "Pop             16133\n",
       "Folk            15917\n",
       "Hip Hop         12913\n",
       "Classical       12896\n",
       "Jazz            11932\n",
       "Country          7078\n",
       "R&B              6744\n",
       "Metal            4615\n",
       "Blues            3457\n",
       "Electronic       3376\n",
       "Experimental     2653\n",
       "Unknown           803\n",
       "Name: count, dtype: int64"
      ]
     },
     "execution_count": 62,
     "metadata": {},
     "output_type": "execute_result"
    }
   ],
   "source": [
    "spotify_160k_genres.broad_genre.value_counts()"
   ]
  },
  {
   "cell_type": "code",
   "execution_count": 32,
   "id": "001d5c34-5620-4af3-b4cd-2b12162a05fb",
   "metadata": {},
   "outputs": [
    {
     "data": {
      "text/html": [
       "<div>\n",
       "<style scoped>\n",
       "    .dataframe tbody tr th:only-of-type {\n",
       "        vertical-align: middle;\n",
       "    }\n",
       "\n",
       "    .dataframe tbody tr th {\n",
       "        vertical-align: top;\n",
       "    }\n",
       "\n",
       "    .dataframe thead th {\n",
       "        text-align: right;\n",
       "    }\n",
       "</style>\n",
       "<table border=\"1\" class=\"dataframe\">\n",
       "  <thead>\n",
       "    <tr style=\"text-align: right;\">\n",
       "      <th></th>\n",
       "      <th>id</th>\n",
       "      <th>name</th>\n",
       "      <th>artists</th>\n",
       "      <th>duration_ms</th>\n",
       "      <th>year</th>\n",
       "      <th>acousticness</th>\n",
       "      <th>danceability</th>\n",
       "      <th>energy</th>\n",
       "      <th>instrumentalness</th>\n",
       "      <th>loudness</th>\n",
       "      <th>tempo</th>\n",
       "      <th>mode</th>\n",
       "      <th>key</th>\n",
       "      <th>popularity</th>\n",
       "      <th>broad_genre</th>\n",
       "      <th>subgenre</th>\n",
       "    </tr>\n",
       "  </thead>\n",
       "  <tbody>\n",
       "    <tr>\n",
       "      <th>0</th>\n",
       "      <td>0gNNToCW3qjabgTyBSjt3H</td>\n",
       "      <td>!Que Vida! - Mono Version</td>\n",
       "      <td>Love</td>\n",
       "      <td>220560</td>\n",
       "      <td>1966</td>\n",
       "      <td>0.5250</td>\n",
       "      <td>0.600</td>\n",
       "      <td>0.540</td>\n",
       "      <td>0.003050</td>\n",
       "      <td>-11.803</td>\n",
       "      <td>125.898</td>\n",
       "      <td>1</td>\n",
       "      <td>9</td>\n",
       "      <td>26</td>\n",
       "      <td>Unknown</td>\n",
       "      <td>Unknown</td>\n",
       "    </tr>\n",
       "    <tr>\n",
       "      <th>1</th>\n",
       "      <td>0tMgFpOrXZR6irEOLNWwJL</td>\n",
       "      <td>\"40\"</td>\n",
       "      <td>U2</td>\n",
       "      <td>157840</td>\n",
       "      <td>1983</td>\n",
       "      <td>0.2280</td>\n",
       "      <td>0.368</td>\n",
       "      <td>0.480</td>\n",
       "      <td>0.707000</td>\n",
       "      <td>-11.605</td>\n",
       "      <td>150.166</td>\n",
       "      <td>1</td>\n",
       "      <td>8</td>\n",
       "      <td>21</td>\n",
       "      <td>Rock</td>\n",
       "      <td>Unknown</td>\n",
       "    </tr>\n",
       "    <tr>\n",
       "      <th>2</th>\n",
       "      <td>2ZywW3VyVx6rrlrX75n3JB</td>\n",
       "      <td>\"40\" - Live</td>\n",
       "      <td>U2</td>\n",
       "      <td>226200</td>\n",
       "      <td>1983</td>\n",
       "      <td>0.0998</td>\n",
       "      <td>0.272</td>\n",
       "      <td>0.684</td>\n",
       "      <td>0.014500</td>\n",
       "      <td>-9.728</td>\n",
       "      <td>143.079</td>\n",
       "      <td>1</td>\n",
       "      <td>8</td>\n",
       "      <td>41</td>\n",
       "      <td>Rock</td>\n",
       "      <td>Unknown</td>\n",
       "    </tr>\n",
       "    <tr>\n",
       "      <th>3</th>\n",
       "      <td>6DdWA7D1o5TU2kXWyCLcch</td>\n",
       "      <td>\"40\" - Remastered 2008</td>\n",
       "      <td>U2</td>\n",
       "      <td>157667</td>\n",
       "      <td>1983</td>\n",
       "      <td>0.1850</td>\n",
       "      <td>0.371</td>\n",
       "      <td>0.545</td>\n",
       "      <td>0.582000</td>\n",
       "      <td>-9.315</td>\n",
       "      <td>150.316</td>\n",
       "      <td>1</td>\n",
       "      <td>8</td>\n",
       "      <td>37</td>\n",
       "      <td>Rock</td>\n",
       "      <td>Unknown</td>\n",
       "    </tr>\n",
       "    <tr>\n",
       "      <th>4</th>\n",
       "      <td>3vMmwsAiLDCfyc1jl76lQE</td>\n",
       "      <td>\"40\" - Remastered 2008</td>\n",
       "      <td>U2</td>\n",
       "      <td>157667</td>\n",
       "      <td>1983</td>\n",
       "      <td>0.1850</td>\n",
       "      <td>0.371</td>\n",
       "      <td>0.545</td>\n",
       "      <td>0.582000</td>\n",
       "      <td>-9.315</td>\n",
       "      <td>150.316</td>\n",
       "      <td>1</td>\n",
       "      <td>8</td>\n",
       "      <td>35</td>\n",
       "      <td>Rock</td>\n",
       "      <td>Unknown</td>\n",
       "    </tr>\n",
       "    <tr>\n",
       "      <th>...</th>\n",
       "      <td>...</td>\n",
       "      <td>...</td>\n",
       "      <td>...</td>\n",
       "      <td>...</td>\n",
       "      <td>...</td>\n",
       "      <td>...</td>\n",
       "      <td>...</td>\n",
       "      <td>...</td>\n",
       "      <td>...</td>\n",
       "      <td>...</td>\n",
       "      <td>...</td>\n",
       "      <td>...</td>\n",
       "      <td>...</td>\n",
       "      <td>...</td>\n",
       "      <td>...</td>\n",
       "      <td>...</td>\n",
       "    </tr>\n",
       "    <tr>\n",
       "      <th>169902</th>\n",
       "      <td>4KiYPYpm4ultIp247ftPlI</td>\n",
       "      <td>텅 빈 마음 Empty Heart</td>\n",
       "      <td>LEE SEUNG HWAN</td>\n",
       "      <td>249893</td>\n",
       "      <td>1989</td>\n",
       "      <td>0.4290</td>\n",
       "      <td>0.547</td>\n",
       "      <td>0.304</td>\n",
       "      <td>0.000000</td>\n",
       "      <td>-14.326</td>\n",
       "      <td>74.164</td>\n",
       "      <td>0</td>\n",
       "      <td>11</td>\n",
       "      <td>35</td>\n",
       "      <td>Other</td>\n",
       "      <td>k-ballad</td>\n",
       "    </tr>\n",
       "    <tr>\n",
       "      <th>169903</th>\n",
       "      <td>42tFTth2jcF7iSo0RBjfJF</td>\n",
       "      <td>피카부 Peek-A-Boo</td>\n",
       "      <td>Red Velvet</td>\n",
       "      <td>189050</td>\n",
       "      <td>2017</td>\n",
       "      <td>0.0868</td>\n",
       "      <td>0.839</td>\n",
       "      <td>0.902</td>\n",
       "      <td>0.002570</td>\n",
       "      <td>-3.612</td>\n",
       "      <td>114.953</td>\n",
       "      <td>0</td>\n",
       "      <td>1</td>\n",
       "      <td>69</td>\n",
       "      <td>Pop</td>\n",
       "      <td>k-pop</td>\n",
       "    </tr>\n",
       "    <tr>\n",
       "      <th>169904</th>\n",
       "      <td>6XP9L7di5JnOc9WaeAW8oe</td>\n",
       "      <td>행복 (Happiness)</td>\n",
       "      <td>Red Velvet</td>\n",
       "      <td>220987</td>\n",
       "      <td>2014</td>\n",
       "      <td>0.3230</td>\n",
       "      <td>0.727</td>\n",
       "      <td>0.871</td>\n",
       "      <td>0.000006</td>\n",
       "      <td>-3.099</td>\n",
       "      <td>121.438</td>\n",
       "      <td>0</td>\n",
       "      <td>10</td>\n",
       "      <td>58</td>\n",
       "      <td>Pop</td>\n",
       "      <td>k-pop</td>\n",
       "    </tr>\n",
       "    <tr>\n",
       "      <th>169905</th>\n",
       "      <td>3Gpdzw72aBVJSrm5J1leVK</td>\n",
       "      <td>헤어지지 못하는 여자, 떠나가지 못하는 남자 Can't Breakup Girl, C...</td>\n",
       "      <td>Leessang</td>\n",
       "      <td>284627</td>\n",
       "      <td>2009</td>\n",
       "      <td>0.1500</td>\n",
       "      <td>0.523</td>\n",
       "      <td>0.841</td>\n",
       "      <td>0.000000</td>\n",
       "      <td>-2.505</td>\n",
       "      <td>173.903</td>\n",
       "      <td>0</td>\n",
       "      <td>10</td>\n",
       "      <td>52</td>\n",
       "      <td>Other</td>\n",
       "      <td>k-ballad</td>\n",
       "    </tr>\n",
       "    <tr>\n",
       "      <th>169906</th>\n",
       "      <td>2p5DfmIUTLH79elmaSCCR5</td>\n",
       "      <td>화려하지 않은 고백 Confession Is Not Flashy</td>\n",
       "      <td>LEE SEUNG HWAN</td>\n",
       "      <td>230733</td>\n",
       "      <td>1993</td>\n",
       "      <td>0.4480</td>\n",
       "      <td>0.741</td>\n",
       "      <td>0.380</td>\n",
       "      <td>0.000811</td>\n",
       "      <td>-9.539</td>\n",
       "      <td>101.971</td>\n",
       "      <td>1</td>\n",
       "      <td>2</td>\n",
       "      <td>43</td>\n",
       "      <td>Other</td>\n",
       "      <td>k-ballad</td>\n",
       "    </tr>\n",
       "  </tbody>\n",
       "</table>\n",
       "<p>169907 rows × 16 columns</p>\n",
       "</div>"
      ],
      "text/plain": [
       "                            id  \\\n",
       "0       0gNNToCW3qjabgTyBSjt3H   \n",
       "1       0tMgFpOrXZR6irEOLNWwJL   \n",
       "2       2ZywW3VyVx6rrlrX75n3JB   \n",
       "3       6DdWA7D1o5TU2kXWyCLcch   \n",
       "4       3vMmwsAiLDCfyc1jl76lQE   \n",
       "...                        ...   \n",
       "169902  4KiYPYpm4ultIp247ftPlI   \n",
       "169903  42tFTth2jcF7iSo0RBjfJF   \n",
       "169904  6XP9L7di5JnOc9WaeAW8oe   \n",
       "169905  3Gpdzw72aBVJSrm5J1leVK   \n",
       "169906  2p5DfmIUTLH79elmaSCCR5   \n",
       "\n",
       "                                                     name         artists  \\\n",
       "0                               !Que Vida! - Mono Version            Love   \n",
       "1                                                    \"40\"              U2   \n",
       "2                                             \"40\" - Live              U2   \n",
       "3                                  \"40\" - Remastered 2008              U2   \n",
       "4                                  \"40\" - Remastered 2008              U2   \n",
       "...                                                   ...             ...   \n",
       "169902                                 텅 빈 마음 Empty Heart  LEE SEUNG HWAN   \n",
       "169903                                     피카부 Peek-A-Boo      Red Velvet   \n",
       "169904                                     행복 (Happiness)      Red Velvet   \n",
       "169905  헤어지지 못하는 여자, 떠나가지 못하는 남자 Can't Breakup Girl, C...        Leessang   \n",
       "169906                화려하지 않은 고백 Confession Is Not Flashy  LEE SEUNG HWAN   \n",
       "\n",
       "        duration_ms  year  acousticness  danceability  energy  \\\n",
       "0            220560  1966        0.5250         0.600   0.540   \n",
       "1            157840  1983        0.2280         0.368   0.480   \n",
       "2            226200  1983        0.0998         0.272   0.684   \n",
       "3            157667  1983        0.1850         0.371   0.545   \n",
       "4            157667  1983        0.1850         0.371   0.545   \n",
       "...             ...   ...           ...           ...     ...   \n",
       "169902       249893  1989        0.4290         0.547   0.304   \n",
       "169903       189050  2017        0.0868         0.839   0.902   \n",
       "169904       220987  2014        0.3230         0.727   0.871   \n",
       "169905       284627  2009        0.1500         0.523   0.841   \n",
       "169906       230733  1993        0.4480         0.741   0.380   \n",
       "\n",
       "        instrumentalness  loudness    tempo  mode  key  popularity  \\\n",
       "0               0.003050   -11.803  125.898     1    9          26   \n",
       "1               0.707000   -11.605  150.166     1    8          21   \n",
       "2               0.014500    -9.728  143.079     1    8          41   \n",
       "3               0.582000    -9.315  150.316     1    8          37   \n",
       "4               0.582000    -9.315  150.316     1    8          35   \n",
       "...                  ...       ...      ...   ...  ...         ...   \n",
       "169902          0.000000   -14.326   74.164     0   11          35   \n",
       "169903          0.002570    -3.612  114.953     0    1          69   \n",
       "169904          0.000006    -3.099  121.438     0   10          58   \n",
       "169905          0.000000    -2.505  173.903     0   10          52   \n",
       "169906          0.000811    -9.539  101.971     1    2          43   \n",
       "\n",
       "       broad_genre  subgenre  \n",
       "0          Unknown   Unknown  \n",
       "1             Rock   Unknown  \n",
       "2             Rock   Unknown  \n",
       "3             Rock   Unknown  \n",
       "4             Rock   Unknown  \n",
       "...            ...       ...  \n",
       "169902       Other  k-ballad  \n",
       "169903         Pop     k-pop  \n",
       "169904         Pop     k-pop  \n",
       "169905       Other  k-ballad  \n",
       "169906       Other  k-ballad  \n",
       "\n",
       "[169907 rows x 16 columns]"
      ]
     },
     "execution_count": 32,
     "metadata": {},
     "output_type": "execute_result"
    }
   ],
   "source": [
    "merged"
   ]
  },
  {
   "cell_type": "code",
   "execution_count": 63,
   "id": "e2661366-d3fd-4a11-ad39-5dab81974b12",
   "metadata": {},
   "outputs": [
    {
     "data": {
      "text/plain": [
       "Index(['id', 'name', 'artists', 'duration_ms', 'year', 'acousticness',\n",
       "       'danceability', 'energy', 'instrumentalness', 'loudness', 'tempo',\n",
       "       'mode', 'key', 'popularity', 'decade', 'length_category'],\n",
       "      dtype='object')"
      ]
     },
     "execution_count": 63,
     "metadata": {},
     "output_type": "execute_result"
    }
   ],
   "source": [
    "spotify_160k.columns"
   ]
  },
  {
   "cell_type": "code",
   "execution_count": 79,
   "id": "578a0ca5-cfbb-4fd3-9f17-5cc6097a77f1",
   "metadata": {},
   "outputs": [],
   "source": [
    "import seaborn as sns\n",
    "import matplotlib.pyplot as plt\n",
    "\n",
    "features = [\n",
    "    'danceability', 'energy', 'loudness',\n",
    "    'acousticness', 'instrumentalness', 'tempo', 'popularity'\n",
    "]\n",
    "\n",
    "spotify_160k_genres_subset = spotify_160k_genres[features]"
   ]
  },
  {
   "cell_type": "code",
   "execution_count": 80,
   "id": "d245b39e-fde6-4aa7-bfcb-13c01086daa5",
   "metadata": {},
   "outputs": [],
   "source": [
    "corr_matrix = spotify_160k_genres_subset.corr()\n",
    "\n",
    "popularity_corr = corr_matrix[['popularity']].drop('popularity')"
   ]
  },
  {
   "cell_type": "code",
   "execution_count": 81,
   "id": "49c3290d-6a15-4162-b99a-67b68e1a1c63",
   "metadata": {},
   "outputs": [
    {
     "data": {
      "image/png": "[encoded data removed]",
      "text/plain": [
       "<Figure size 600x800 with 2 Axes>"
      ]
     },
     "metadata": {},
     "output_type": "display_data"
    }
   ],
   "source": [
    "plt.figure(figsize=(6, 8))\n",
    "sns.heatmap(\n",
    "    popularity_corr,\n",
    "    annot=True,\n",
    "    cmap='coolwarm',\n",
    "    center=0,\n",
    "    cbar_kws={'label': 'Correlation with Popularity'}\n",
    ")\n",
    "plt.title('Correlation of Audio Features with Popularity')\n",
    "plt.ylabel('Audio Feature')\n",
    "plt.tight_layout()\n",
    "plt.show()"
   ]
  },
  {
   "cell_type": "code",
   "execution_count": null,
   "id": "cec8ce04-5aac-4a45-93a0-bed20056e517",
   "metadata": {},
   "outputs": [],
   "source": []
  }
 ],
 "metadata": {
  "kernelspec": {
   "display_name": "Python 3 (ipykernel)",
   "language": "python",
   "name": "python3"
  },
  "language_info": {
   "codemirror_mode": {
    "name": "ipython",
    "version": 3
   },
   "file_extension": ".py",
   "mimetype": "text/x-python",
   "name": "python",
   "nbconvert_exporter": "python",
   "pygments_lexer": "ipython3",
   "version": "3.13.3"
  }
 },
 "nbformat": 4,
 "nbformat_minor": 5
}
